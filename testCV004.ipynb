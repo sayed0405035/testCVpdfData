{
 "cells": [
  {
   "cell_type": "code",
   "execution_count": 1,
   "id": "e173b8a8",
   "metadata": {
    "_cell_guid": "b1076dfc-b9ad-4769-8c92-a6c4dae69d19",
    "_uuid": "8f2839f25d086af736a60e9eeb907d3b93b6e0e5",
    "execution": {
     "iopub.execute_input": "2022-09-01T20:32:34.437991Z",
     "iopub.status.busy": "2022-09-01T20:32:34.437229Z",
     "iopub.status.idle": "2022-09-01T20:32:34.457106Z",
     "shell.execute_reply": "2022-09-01T20:32:34.456243Z"
    },
    "papermill": {
     "duration": 0.0298,
     "end_time": "2022-09-01T20:32:34.459837",
     "exception": false,
     "start_time": "2022-09-01T20:32:34.430037",
     "status": "completed"
    },
    "tags": []
   },
   "outputs": [
    {
     "name": "stdout",
     "output_type": "stream",
     "text": [
      "/kaggle/input/cvpdfdata/agaspar_cv.pdf\n",
      "complete\n"
     ]
    }
   ],
   "source": [
    "# This Python 3 environment comes with many helpful analytics libraries installed\n",
    "# It is defined by the kaggle/python Docker image: https://github.com/kaggle/docker-python\n",
    "# For example, here's several helpful packages to load\n",
    "\n",
    "import numpy as np # linear algebra\n",
    "import pandas as pd # data processing, CSV file I/O (e.g. pd.read_csv)\n",
    "\n",
    "# Input data files are available in the read-only \"../input/\" directory\n",
    "# For example, running this (by clicking run or pressing Shift+Enter) will list all files under the input directory\n",
    "\n",
    "import os\n",
    "for dirname, _, filenames in os.walk('/kaggle/input'):\n",
    "    for filename in filenames:\n",
    "        print(os.path.join(dirname, filename))\n",
    "\n",
    "# You can write up to 20GB to the current directory (/kaggle/working/) that gets preserved as output when you create a version using \"Save & Run All\" \n",
    "# You can also write temporary files to /kaggle/temp/, but they won't be saved outside of the current session\n",
    "print(\"complete\")"
   ]
  },
  {
   "cell_type": "code",
   "execution_count": 2,
   "id": "4f237f78",
   "metadata": {
    "execution": {
     "iopub.execute_input": "2022-09-01T20:32:34.471764Z",
     "iopub.status.busy": "2022-09-01T20:32:34.470699Z",
     "iopub.status.idle": "2022-09-01T20:32:47.485394Z",
     "shell.execute_reply": "2022-09-01T20:32:47.484242Z"
    },
    "papermill": {
     "duration": 13.023001,
     "end_time": "2022-09-01T20:32:47.487666",
     "exception": false,
     "start_time": "2022-09-01T20:32:34.464665",
     "status": "completed"
    },
    "tags": []
   },
   "outputs": [
    {
     "name": "stdout",
     "output_type": "stream",
     "text": [
      "Collecting tika\r\n",
      "  Downloading tika-1.24.tar.gz (28 kB)\r\n",
      "  Preparing metadata (setup.py) ... \u001b[?25l-\b \bdone\r\n",
      "\u001b[?25hRequirement already satisfied: setuptools in /opt/conda/lib/python3.7/site-packages (from tika) (59.8.0)\r\n",
      "Requirement already satisfied: requests in /opt/conda/lib/python3.7/site-packages (from tika) (2.28.1)\r\n",
      "Requirement already satisfied: charset-normalizer<3,>=2 in /opt/conda/lib/python3.7/site-packages (from requests->tika) (2.1.0)\r\n",
      "Requirement already satisfied: urllib3<1.27,>=1.21.1 in /opt/conda/lib/python3.7/site-packages (from requests->tika) (1.26.11)\r\n",
      "Requirement already satisfied: idna<4,>=2.5 in /opt/conda/lib/python3.7/site-packages (from requests->tika) (3.3)\r\n",
      "Requirement already satisfied: certifi>=2017.4.17 in /opt/conda/lib/python3.7/site-packages (from requests->tika) (2022.6.15)\r\n",
      "Building wheels for collected packages: tika\r\n",
      "  Building wheel for tika (setup.py) ... \u001b[?25l-\b \b\\\b \bdone\r\n",
      "\u001b[?25h  Created wheel for tika: filename=tika-1.24-py3-none-any.whl size=32893 sha256=3d396154a31b381fa2c32da33e8f8c561bbb058b4e1a50893c122acf0f28e422\r\n",
      "  Stored in directory: /root/.cache/pip/wheels/ec/2b/38/58ff05467a742e32f67f5d0de048fa046e764e2fbb25ac93f3\r\n",
      "Successfully built tika\r\n",
      "Installing collected packages: tika\r\n",
      "Successfully installed tika-1.24\r\n",
      "\u001b[33mWARNING: Running pip as the 'root' user can result in broken permissions and conflicting behaviour with the system package manager. It is recommended to use a virtual environment instead: https://pip.pypa.io/warnings/venv\u001b[0m\u001b[33m\r\n",
      "\u001b[0mcomplete\n"
     ]
    }
   ],
   "source": [
    "!pip install tika\n",
    "print(\"complete\")"
   ]
  },
  {
   "cell_type": "code",
   "execution_count": 3,
   "id": "cc067a1a",
   "metadata": {
    "execution": {
     "iopub.execute_input": "2022-09-01T20:32:47.502151Z",
     "iopub.status.busy": "2022-09-01T20:32:47.501616Z",
     "iopub.status.idle": "2022-09-01T20:32:47.517021Z",
     "shell.execute_reply": "2022-09-01T20:32:47.515956Z"
    },
    "papermill": {
     "duration": 0.026277,
     "end_time": "2022-09-01T20:32:47.519461",
     "exception": false,
     "start_time": "2022-09-01T20:32:47.493184",
     "status": "completed"
    },
    "tags": []
   },
   "outputs": [
    {
     "name": "stdout",
     "output_type": "stream",
     "text": [
      "complete\n"
     ]
    }
   ],
   "source": [
    "from tika import parser\n",
    "print(\"complete\")"
   ]
  },
  {
   "cell_type": "code",
   "execution_count": 4,
   "id": "1c959d63",
   "metadata": {
    "execution": {
     "iopub.execute_input": "2022-09-01T20:32:47.534734Z",
     "iopub.status.busy": "2022-09-01T20:32:47.533314Z",
     "iopub.status.idle": "2022-09-01T20:33:08.218404Z",
     "shell.execute_reply": "2022-09-01T20:33:08.217027Z"
    },
    "papermill": {
     "duration": 20.695129,
     "end_time": "2022-09-01T20:33:08.221284",
     "exception": false,
     "start_time": "2022-09-01T20:32:47.526155",
     "status": "completed"
    },
    "tags": []
   },
   "outputs": [
    {
     "name": "stderr",
     "output_type": "stream",
     "text": [
      "2022-09-01 20:32:47,541 [MainThread  ] [INFO ]  Retrieving http://search.maven.org/remotecontent?filepath=org/apache/tika/tika-server/1.24/tika-server-1.24.jar to /tmp/tika-server.jar.\n",
      "2022-09-01 20:32:51,026 [MainThread  ] [INFO ]  Retrieving http://search.maven.org/remotecontent?filepath=org/apache/tika/tika-server/1.24/tika-server-1.24.jar.md5 to /tmp/tika-server.jar.md5.\n",
      "2022-09-01 20:32:51,967 [MainThread  ] [WARNI]  Failed to see startup log message; retrying...\n"
     ]
    },
    {
     "name": "stdout",
     "output_type": "stream",
     "text": [
      "complete\n"
     ]
    }
   ],
   "source": [
    "file = r'../input/cvpdfdata/agaspar_cv.pdf'\n",
    "file_data = parser.from_file(file)\n",
    "print(\"complete\")"
   ]
  },
  {
   "cell_type": "code",
   "execution_count": 5,
   "id": "5374a464",
   "metadata": {
    "execution": {
     "iopub.execute_input": "2022-09-01T20:33:08.235667Z",
     "iopub.status.busy": "2022-09-01T20:33:08.234984Z",
     "iopub.status.idle": "2022-09-01T20:33:08.241032Z",
     "shell.execute_reply": "2022-09-01T20:33:08.240153Z"
    },
    "papermill": {
     "duration": 0.015935,
     "end_time": "2022-09-01T20:33:08.243318",
     "exception": false,
     "start_time": "2022-09-01T20:33:08.227383",
     "status": "completed"
    },
    "tags": []
   },
   "outputs": [
    {
     "name": "stdout",
     "output_type": "stream",
     "text": [
      "\n",
      "\n",
      "\n",
      "\n",
      "\n",
      "\n",
      "\n",
      "\n",
      "\n",
      "\n",
      "\n",
      "\n",
      "\n",
      "\n",
      "\n",
      "\n",
      "\n",
      "\n",
      "\n",
      "\n",
      "\n",
      "\n",
      "\n",
      "\n",
      "\n",
      "\n",
      "\n",
      "\n",
      "\n",
      "\n",
      "\n",
      "\n",
      "\n",
      "\n",
      "\n",
      "\n",
      "\n",
      "\n",
      "\n",
      "\n",
      "\n",
      "\n",
      "\n",
      "\n",
      "\n",
      "\n",
      "\n",
      "\n",
      "\n",
      "\n",
      "\n",
      "\n",
      "\n",
      "\n",
      "\n",
      "\n",
      "\n",
      "\n",
      "András Gáspár 12/10/2016\n",
      "\n",
      "Contact\n",
      "Information\n",
      "\n",
      "Steward Observatory\n",
      "The University of Arizona\n",
      "933 N Cherry Avenue, Rm 278\n",
      "Tucson, AZ 85721-0065\n",
      "\n",
      "Tel: (520)-360-0983\n",
      "agaspar@as.arizona.edu\n",
      "http://merope.as.arizona.edu/˜agaspar\n",
      "U.S. permanent resident\n",
      "\n",
      "Research\n",
      "Areas\n",
      "\n",
      "Circumstellar Disks, Exozodi, Extrasolar Planets, Variable Stars, Open Clus-\n",
      "ters, ISM, Coronagraphy, Infrared Detectors, HPC/GPU programming\n",
      "\n",
      "Education 2011 Ph.D., Astronomy, Steward Observatory, The University of Arizona\n",
      "Thesis: “Observations and models of infrared debris disk signatures and\n",
      "\n",
      "their evolution”\n",
      "Advisor: Prof. George H. Rieke\n",
      "\n",
      "2008 M.Sc., Astronomy, Steward Observatory, The University of Arizona\n",
      "Advisor: Prof. George H. Rieke\n",
      "\n",
      "2006 B.Sc., Astronomy, University of Szeged, Hungary\n",
      "Advisor: Dr. Zoltán Balog\n",
      "\n",
      "Appointments 2017 - current Adjunct Faculty, Pima Community College\n",
      "(secondary job to advance teaching skills)\n",
      "\n",
      "2014 - current Senior Research Associate, Steward Obs., The UofA\n",
      "2011 - 2014 Postdoctoral Researcher, Steward Obs., The UofA\n",
      "2006 - 2011 Research Assistant, Steward Obs., The UofA\n",
      "2005 Research Assistant, UKIDSS/UKIRT, University of Leeds\n",
      "\n",
      "Proposals/\n",
      "Grants\n",
      "(PI)\n",
      "\n",
      "2012 Pointing the Finger: Calibrating the Hidden Features of STIS\n",
      "and Enabling New Coronagraphy at Separations of 0.15 ′′\n",
      "\n",
      "Total award: 6 orbits on HST/STIS ($88k)\n",
      "2011 Observing Young Debris Disks with SPIRE\n",
      "\n",
      "Total award: 2.2 hours of OT2 time with Herschel\n",
      "(Not carried out due to EOM)\n",
      "\n",
      "Proposals/\n",
      "Grants\n",
      "(Co-I)\n",
      "\n",
      "2016 Debris Disk Variability - Exploring the Diverse\n",
      "Outcomes of Large Collisions during the Eras of Oligarchic\n",
      "and Chaotic Growth\n",
      "NASA ADAP ($200k)\n",
      "\n",
      "2016 Probing Terrestrial Planet Formation with Extreme\n",
      "Disk Variability\n",
      "Total award: 120 h with Spitzer Space Telescope\n",
      "\n",
      "1\n",
      "\n",
      "mailto:agaspar@as.arizona.edu\n",
      "http://merope.as.arizona.edu/~agaspar\n",
      "\n",
      "\n",
      "2015 Contrasting Exoplanetary Systems by Resolving the\n",
      "Debris Disk around Denebola\n",
      "Total award: 8.5 h with ALMA\n",
      "\n",
      "2014 Earths in Other Solar Systems: Toward forming and\n",
      "discovering planets with biocritical ingredients\n",
      "NASA Astrobiology Institute proposal ( $7 million)\n",
      "\n",
      "2014 Decoding Debris System Substructures: Imprints of\n",
      "Planets/Planetesimals and Signatures of Extrinsic Influences\n",
      "on Material in Ring-Like Disks\n",
      "Total award: 40 orbits on HST/STIS ($280k)\n",
      "\n",
      "2014 Pushing to 8 AU in the archetypal protoplanetary\n",
      "disk of TW Hya\n",
      "Total award: 8 orbits on HST/STIS\n",
      "\n",
      "2010 Diversity in Debris Disks: Snapshots of Planetary System Evolution\n",
      "Total award: 109 h with Spitzer Space Telescope ($266k)\n",
      "\n",
      "2009 The Master Sample of Spitzer Debris Disk Measurements\n",
      "Total award: 103 h with Spitzer Space Telescope ($330k)\n",
      "\n",
      "Current\n",
      "Research\n",
      "Projects\n",
      "\n",
      "• JWST/NIRCam GTO Debris Disk program lead (50 hours)\n",
      "• JWST/MIRI GTO Archetypical Debris Disks program lead (50 hours)\n",
      "• JWST/MIRI Science Instrument team member\n",
      "• D3D: GPU based 3D Debris Disk model development program lead\n",
      "• HST/STIS BAR5 coronagraph calibration program lead (6 orbits on HST)\n",
      "\n",
      "Teaching/\n",
      "Outreach\n",
      "\n",
      "2017 AST101IN: Solar System (hybrid course),\n",
      "Pima Community College\n",
      "\n",
      "2010 TA for ASTR 202: Life in the Universe, UofA\n",
      "http://merope.as.arizona.edu/˜agaspar/ASTR202\n",
      "Professor: Dr. Christopher Walker\n",
      "\n",
      "2009 TA for ASTR 250: Fundamentals of Astronomy, UofA\n",
      "Professor: Dr. Yancy Shirley\n",
      "\n",
      "2006 Astronomical Lab II, University of Szeged\n",
      "2005 Astronomical Lab I, University of Szeged\n",
      "2001 - 2006 Open nights at the Public Observatory, Szeged, Hungary\n",
      "\n",
      "Students • Co-Supervised: M.Sc. for Attila Simon (Ph.D.), The University of Szeged,\n",
      "Hungary (2004-2006)\n",
      "\n",
      "• Co-Supervised: Ph.D. for Nick Ballering, The University of Arizona (2013-\n",
      "2016)\n",
      "\n",
      "2\n",
      "\n",
      "http://merope.as.arizona.edu/~agaspar/ASTR202\n",
      "\n",
      "\n",
      "Honors/\n",
      "awards\n",
      "\n",
      "2005 27th National Undergraduate Conference Physics, Geology and Mathe-\n",
      "matics section, \"Stars and stellar clusters\" category I. prize\n",
      "Thesis: Mapping of starbirth regions in the near-infrared\n",
      "\n",
      "2005 Pro Scientia gold medal from the Hungarian Academy of Sciences\n",
      "2005 Albert Szent-Györgyi Scholarship\n",
      "2005 Scholarship of the Hungarian Republic\n",
      "2003 Pro Renovanda Culturae Scholarship\n",
      "2003 26th National Undergraduate Conference Physics, Geology and Mathe-\n",
      "\n",
      "matics section, \"Astrophysics\" category III. prize\n",
      "Thesis: The photometric study of open cluster NGC 2126\n",
      "\n",
      "Selected\n",
      "Talks/\n",
      "Meetings\n",
      "\n",
      "2016 National Capital Area Disks Meeting 2016 (NCAD 2016)\n",
      "2016 JWST GTO meeting, Victoria, CA\n",
      "2014 Search for Life Beyond the Solar System. Exoplanets,\n",
      "\n",
      "Biosignatures & Instruments., Tucson, AZ\n",
      "2013 5th Subaru International Conference, Kona, HI\n",
      "2013 Invited talk at AAS #221\n",
      "2012 NASA Goddard Extrasolar Planets Seminar\n",
      "2012 STScI Star and Planet Formation Seminar Series\n",
      "2012 Carnegie DTM Astronomy Group Seminar\n",
      "2012 National Capital Area Disks Meeting 2012 (NCAD 2012)\n",
      "2011 Exploring Strange New Worlds, Flagstaff, AZ\n",
      "\n",
      "Services • Referee for The Astrophysical Journal, The Astronomical Journal, and As-\n",
      "tronomy & Astrophysics\n",
      "\n",
      "• Hungarian translation of Disk Detective, NASA citizen science project\n",
      "• Organized the Summer Disk Seminar Series 2012 at Steward Obs.\n",
      "\n",
      "Observing\n",
      "Experience\n",
      "\n",
      "60 cm Schmidt (Konkoly Obs., MTA; 3 weeks), 1 m RCC (Konkoly Obs.,\n",
      "MTA; 2 weeks), MMT (2 nights), Bok 2.3 m (2 nights), Mt. Bigelow 48′′ (2\n",
      "nights), HST (6 orbits), LBT (5 nights)\n",
      "\n",
      "3\n",
      "\n",
      "\n",
      "\n",
      "Publications\n",
      "\n",
      "Citations of refereed articles (First Authored/total): 193/667\n",
      "h-index of refereed articles (First Authored/total): 7/13\n",
      "\n",
      "Refereed First Authored Papers\n",
      "\n",
      "∗1. The Correlation Between Metallicity and Debris Disk mass,\n",
      "Gáspár, András, Rieke, George, and Ballering, Nicholas\n",
      "2016, The Astrophysical Journal, 826, 171G\n",
      "\n",
      "∗2. The Herschel Cold Debris Disks: Confusion with the Extragalactic Background at 160 µm,\n",
      "Gáspár, András, and Rieke, George\n",
      "2014, The Astrophysical Journal, 784, 33G\n",
      "\n",
      "∗3. The Collisional Evolution of Debris Disks,\n",
      "Gáspár, András, Rieke, George, and Balog, Zoltan\n",
      "2013, The Astrophysical Journal, 768, 25\n",
      "\n",
      "∗4. Modeling Collisional Cascades in Debris Disks: Steep Dust-Size Distributions,\n",
      "Gáspár, András, Psaltis, Dimitrios, Özel, Feryal, Rieke, George, and Cooney, A.\n",
      "2012, The Astrophysical Journal, 754, 74G\n",
      "\n",
      "∗5. Modeling Collisional Cascades in Debris Disks: The Numerical Method,\n",
      "Gáspár, András, Psaltis, Dimitrios, Özel, Feryal, Rieke, George, and Cooney, A.\n",
      "2012, The Astrophysical Journal, 749, 14G\n",
      "\n",
      "∗6. The Low Level of Debris Disk Activity at the Time of the Late Heavy Bombardment: A Spitzer\n",
      "Study of Praesepe,\n",
      "Gáspár, András, Rieke, George H., Su, Kate Y. L., Balog, Zoltán, Trilling, David, Muzzerole,\n",
      "James, Apai, Dániel, and Kelly, Brandon C.\n",
      "2009, The Astrophysical Journal, 697, 1578G\n",
      "\n",
      "∗7. Modeling the Infrared Bow Shock at δ Velorum: Implications for Studies of Debris Disks and λ\n",
      "Boötis Stars,\n",
      "Gáspár, András, Su, Kate Y. L., Rieke, George H., Balog, Zoltán, Kamp, Inga, Martínez-\n",
      "Galarza, Juan R., and Stapelfeldt, Karl\n",
      "2008, The Astrophysical Journal, 672, 974G\n",
      "\n",
      "∗8. The first CCD photometric study of the open cluster NGC 2126,\n",
      "Gáspár, A., Kiss, L. L., Bedding, T. R., Derekas, A., Kaspi, S., Kiss, Cs., Sárneczky, K., Szabó,\n",
      "Gy. M., and Váradi, M.\n",
      "2003, Astronomy & Astrophysics, 410, 879G\n",
      "\n",
      "4\n",
      "\n",
      "\n",
      "\n",
      "Refereed Co-Authored Papers\n",
      "\n",
      "9. Chasing Shadows: Rotation of the Azimuthal Asymmetry in the TW Hya Disk,\n",
      "John H. Debes, Charles A. Poteet, Hannah Jang-Condell, András Gáspár, Dean Hines, Joel H.\n",
      "Kastner, Laurent Pueyo, Valerie Rapson, Aki Roberge, Glenn Schneider, Alycia J. Weinberger\n",
      "2016, AAS Journals, accepted\n",
      "\n",
      "10. Protoplanetary and Transitional Disks in the Open Stellar Cluster IC 2395,\n",
      "Balog, Zoltan; Siegler, Nick; Rieke, G. H.; Kiss, L. L.; Muzerolle, James; Gutermuth, R. A.;\n",
      "Bell, Cameron P. M.; Vinkó, J.; Su, K. Y. L.; Young, E. T.; Gáspár, András\n",
      "2016, The Astrophysical Journal, 832, 87B\n",
      "\n",
      "11. Deep HST/STIS Visible-light Imaging of Debris Systems around Solar Analog Hosts,\n",
      "Schneider, Glenn; Grady, Carol A.; Stark, Christopher C.; Gáspár, András; Carson, Joseph;\n",
      "Debes, John H.; Henning, Thomas; Hines, Dean C.; Jang-Condell, Hannah; Kuchner, Marc J.;\n",
      "Perrin, Marshall; Rodigas, Timothy J.; Tamura, Motohide; Wisniewski, John P.\n",
      "2016, The Astrophysical Journal, 152, 64S\n",
      "\n",
      "12. Nulling Data Reduction and On-sky Performance of the Large Binocular Telescope Interferom-\n",
      "eter,\n",
      "Defrère, D.; Hinz, P. M.; Mennesson, B.; Hoffmann, W. F.; Millan-Gabet, R.; Skemer, A. J.;\n",
      "Bailey, V.; Danchi, W. C.; Downey, E. C.; Durney, O.; Grenz, P.; Hill, J. M.; McMahon, T. J.;\n",
      "Montoya, M.; Spalding, E.; Vaz, A.; Absil, O.; Arbo, P.; Bailey, H.; Brusa, G.; Bryden, G.;\n",
      "Esposito, S.; Gaspar, A.; Haniff, C. A.; Kennedy, G. M.; Leisenring, J. M.; Marion, L.; Nowak,\n",
      "M.; Pinna, E.; Powell, K.; Puglisi, A.; Rieke, G.; Roberge, A.; Serabyn, E.; Sosa, R.; Stapeld-\n",
      "feldt, K.; Su, K.; Weinberger, A. J.; Wyatt, M. C.\n",
      "2016, The Astrophysical Journal, 824, 66D\n",
      "\n",
      "13. A Comprehensive Dust Model Applied to the Resolved Beta Pictoris Debris Disk from Optical\n",
      "to Radio Wavelengths,\n",
      "Ballering, Nicholas P.; Su, Kate Y. L.; Rieke, George H.; Gáspár, András\n",
      "2016, The Astrophysical Journal, 823, 108B\n",
      "\n",
      "14. Discovery of an Inner Disk Component around HD 141569 A,\n",
      "Konishi, Mihoko; Grady, Carol A.; Schneider, Glenn; Shibai, Hiroshi; McElwain, Michael W.;\n",
      "Nesvold, Erika R.; Kuchner, Marc J.; Carson, Joseph; Debes, John. H.; Gáspár, András;\n",
      "Henning, Thomas K.; Hines, Dean C.; Hinz, Philip M.; Jang-Condell, Hannah; Moro-Martín,\n",
      "Amaya; Perrin, Marshall; Rodigas, Timothy J.; Serabyn, Eugene; Silverstone, Murray D.; Stark,\n",
      "Christopher C.; Tamura, Motohide; Weinberger, Alycia J.; Wisniewski, John. P.\n",
      "2016, The Astrophysical Journal, 818L, 23K\n",
      "\n",
      "15. Magnetic Grain Trapping and the Hot Excesses around Early-type Stars,\n",
      "Rieke, G. H.; Gáspár, András; Ballering, N. P.\n",
      "2016, The Astrophysical Journal, 816, 50R\n",
      "\n",
      "5\n",
      "\n",
      "\n",
      "\n",
      "16. First-light LBT Nulling Interferometric Observations: Warm Exozodiacal Dust Resolved within\n",
      "a Few AU of η Crv,\n",
      "Defrère, D.; Hinz, P. M.; Skemer, A. J.; Kennedy, G. M.; Bailey, V. P.; Hoffmann, W. F.;\n",
      "Mennesson, B.; Millan-Gabet, R.; Danchi, W. C.; Absil, O.; Arbo, P.; Beichman, C.; Brusa,\n",
      "G.; Bryden, G.; Downey, E. C.; Durney, O.; Esposito, S.; Gáspár, A.; Grenz, P.; Haniff, C.;\n",
      "Hill, J. M.; Lebreton, J.; Leisenring, J. M.; Males, J. R.; Marion, L.; McMahon, T. J.; Montoya,\n",
      "M.; Morzinski, K. M.; Pinna, E.; Puglisi, A.; Rieke, G.; Roberge, A.; Serabyn, E.; Sosa, R.;\n",
      "Stapeldfeldt, K.; Su, K.; Vaitheeswaran, V.; Vaz, A.; Weinberger, A. J.; Wyatt, M. C.\n",
      "2015, The Astrophysical Journal, 799, 42D\n",
      "\n",
      "17. Probing the Terrestrial Regions of Planetary Systems: Warm Debris Disks with Emission Fea-\n",
      "tures,\n",
      "Ballering, Nicholas P.; Rieke, George H.; Gáspár, András\n",
      "2014, The Astrophysical Journal, 793, 57B\n",
      "\n",
      "18. The Decay of Debris Disks around Solar-type Stars,\n",
      "Sierchio, J. M.; Rieke, G. H.; Su, K. Y. L.; Gáspár, András\n",
      "2014, The Astrophysical Journal, 785, 33S\n",
      "\n",
      "19. Dust formation in the ejecta of the type II-P supernova 2004dj,\n",
      "Szalai, Tamás, Vinkó, József, Balog, Zoltán, Gáspár, András, Block, Miwa, and Kiss, László\n",
      "L.\n",
      "2011, Astronomy & Astrophysics, 527A, 61S\n",
      "\n",
      "20. HST and Spitzer Observations of the HD 207129 Debris Ring,\n",
      "Krist, John E., Stapelfeldt, Karl R., Bryden, Geoffrey, Rieke, George H., Su, Kate Y. L., Chen,\n",
      "Christine C., Beichman, Charles A., Hines, Dean C., Rebull, Luisa M., Tanner, Angelle, Trilling,\n",
      "David E., Clampin, Mark, and Gáspár, András\n",
      "2010, Astronomical Journal, 140, 1051K\n",
      "\n",
      "21. Spitzer/IRAC-MIPS Survey of NGC 2451 A and B: Debris Disks at 50-80 Million Years,\n",
      "Balog, Zoltán, Kiss, László L., Vinkó, József, Rieke, George H., Muzerolle, James, Gáspár,\n",
      "András, Young, Erick T., and Gorlova, Nadya\n",
      "2009, The Astrophysical Journal, 698, 1989B\n",
      "\n",
      "22. Infrared Emission by Dust Around lambda Bootis Stars: Debris Disks or Thermally Emitting\n",
      "Nebulae?,\n",
      "Martínez-Galarza, Juan R., Kamp, Inga, Su, Kate Y. L., Gáspár, András, Rieke, George H., and\n",
      "Mamajek, Erik E.\n",
      "2009, The Astrophysical Journal, 694, 165M\n",
      "\n",
      "23. The UKIDSS Galactic Plane Survey,\n",
      "Lucas, P. W., Hoare, M. G., Longmore, A., Schröder, A. C., Davis, C. J., Adamson, A., Bandy-\n",
      "opadhyay, R. M., de Grijs, R., Smith, M., Gosling, A., Mitchison, S.; Gáspár, A., Coe, M.,\n",
      "\n",
      "6\n",
      "\n",
      "\n",
      "\n",
      "Tamura, M., Parker, Q., Irwin, M., Hambly, N., Bryant, J., Collins, R. S., Cross, N., Evans,\n",
      "D. W., Gonzalez-Solares, E., Hodgkin, S., Lewis, J., Read, M., Riello, M., Sutorius, E. T. W.,\n",
      "Lawrence, A., Drew, J. E., Dye, S., and Thompson, M. A.\n",
      "2008, The Monthly Notices of the Royal Astronomical Society, 391, 136L\n",
      "\n",
      "24. Lynds 1622: a nearby star-forming cloud projected on Orion B?,\n",
      "Kun, M., Balog, Z., Mizuno, N., Kawamura, A., Gáspár, A., Kenyon, S. J., and Fukui, Y.\n",
      "2008, The Monthly Notices of the Royal Astronomical Society, 391, 84K\n",
      "\n",
      "25. Photoevaporation of Protoplanetary Disks,\n",
      "Balog, Zoltán, Rieke, George H., Muzerolle, James, Bally, John, Su, Kate Y. L., Misselt, Karl,\n",
      "and Gáspár, András\n",
      "2008, The Astrophysical Journal, 688, 408B\n",
      "\n",
      "26. Low-mass star formation in Lynds 1333,\n",
      "Kun, M., Nikolić, S., Johansson, L. E. B., Balog, Z., and Gáspár, A.\n",
      "2006, The Monthly Notices of the Royal Astronomical Society, 371, 732K\n",
      "\n",
      "27. The first year of SN 2004dj in NGC 2403,\n",
      "Vinkó, J., Takáts, K., Sárneczky, K., Szabó, Gy. M., Mészáros, Sz., Csorvási, R., Szalai, T.,\n",
      "Gáspár, A., Pál, A., Csizmadia, Sz., Kóspál, A., Rácz, M., Kun, M., Csák, B., Fűrész, G.,\n",
      "DeBond, H., Grunhut, J., Thomson, J., Mochnacki, S., and Koktay, T.\n",
      "2006, The Monthly Notices of the Royal Astronomical Society, 369, 1780V\n",
      "\n",
      "28. A Near-Infrared (JHK) Survey of the Vicinity of the HII Region NGC 7538: Evidence for a Young\n",
      "Embedded Cluster,\n",
      "Balog, Z., Kenyon, S. J., Lada, E. A., Barsony, M., Vinkó, J., and Gáspár, A.\n",
      "2004, The Astronomical Journal, 128, 2942B\n",
      "\n",
      "Conference abstracts and proceedings\n",
      "\n",
      "∗1. The Collisional Evolution of Debris Disks,\n",
      "2014, poster presented at Search for Life Beyond the Solar System. Exoplanets, Biosignatures &\n",
      "Instruments., Tucson, AZ\n",
      "\n",
      "∗2. The Collisional Evolution of Debris Disks,\n",
      "2013, poster presented at 5th Subaru International Conference, Kona, HI\n",
      "\n",
      "∗3. Debris Disk Time Evolution - Connecting Observations with Theory,\n",
      "2013, talk presented at AAS #221, Long Beach, CA\n",
      "\n",
      "∗4. The Collisional Evolution of Debris Disks,\n",
      "2012, talk presented at the National Capital Area Disks Meeting, STScI, Baltimore, MD\n",
      "\n",
      "7\n",
      "\n",
      "\n",
      "\n",
      "∗5. A New Numerical Model of Collisional Cascades in Debris Disks,\n",
      "Gáspár, András, Psaltis, Dimitrios, Özel, Feryal, Rieke, George, and Cooney, A.\n",
      "2011, poster presented at Exploring Strange New Worlds, Flagstaff, AZ\n",
      "\n",
      "6. The Master Sample of Spitzer Debris Disk Measurements,\n",
      "Su, Kate Y. L., Rieke, G., Stapelfeldt, K., Bryden, G., Werner, M., Plavchan, P., Trilling, D.,\n",
      "Gáspár, A., and Morales, F.\n",
      "2010, American Astronomical Society, AAS Meeting #215\n",
      "\n",
      "∗7. False Signs of Debris Disks,\n",
      "Gáspár, András, Su, Kate Y. L., Rieke, George H., Balog, Zoltán, Mamajek, Eric, Kamp, Inga,\n",
      "Martínez-Galarza, Juan R., Stapelfeldt, K.\n",
      "2008, poster presented at New Light on Young Stars: Spitzer’s View of Circumstellar Disks,\n",
      "Pasadena, CA\n",
      "\n",
      "8. λ Boötis stars: Current status and new insights from Spitzer,\n",
      "Kamp, I., Martínez-Galarza, J. R., Paunzen, E., Su, K. Y. L., Gáspár, A., and Rieke, G. H.\n",
      "2008, Contributions of the Astronomical Observatory SkalnatÃl’ Pleso, vol. 38, no. 2, p. 147-156\n",
      "\n",
      "∗9. Preliminary Results on Newly Discovered Embedded Clusters,\n",
      "Gáspár, András, Balog, Zoltán, Makai, Zoltán, Vinkó, József, and Kenyon, Scott\n",
      "2005, Cores to Clusters: Star Formation with Next Generation Telescopes, Porto, Portugal, p.\n",
      "209\n",
      "\n",
      "∗10. A Variable Star Survey of the Open Cluster NGC 2126,\n",
      "Gáspár, A., Kiss, L. L., Derekas, A., Bedding, T. R., Kaspi, S., Kiss, C., Sárneczky, K., Szabó,\n",
      "G. M., and Váradi, M.\n",
      "2004, Communications in Astroseismology, 145, 70\n",
      "\n",
      "11. A Variable Star Survey of the Open Cluster NGC 2126,\n",
      "Derekas, A., Kiss, L. L., Bedding, T. R., Gáspár, A., Sárneczky, K., Szabó, Gy. M., Váradi, M.,\n",
      "Kaspi, S., and Kiss, Cs.\n",
      "2004, Variable Stars in the Local Group, IAU Colloquium 193, New Zealand, ASP Conference\n",
      "Proceedings, Vol. 310, p. 162\n",
      "\n",
      "8\n",
      "\n",
      "\n",
      "\n",
      "complete\n"
     ]
    }
   ],
   "source": [
    "text = file_data['content']\n",
    "print(text)\n",
    "print(\"complete\")"
   ]
  },
  {
   "cell_type": "code",
   "execution_count": 6,
   "id": "1c71f6ac",
   "metadata": {
    "execution": {
     "iopub.execute_input": "2022-09-01T20:33:08.258671Z",
     "iopub.status.busy": "2022-09-01T20:33:08.258254Z",
     "iopub.status.idle": "2022-09-01T20:33:08.262335Z",
     "shell.execute_reply": "2022-09-01T20:33:08.261690Z"
    },
    "papermill": {
     "duration": 0.014344,
     "end_time": "2022-09-01T20:33:08.265050",
     "exception": false,
     "start_time": "2022-09-01T20:33:08.250706",
     "status": "completed"
    },
    "tags": []
   },
   "outputs": [
    {
     "name": "stdout",
     "output_type": "stream",
     "text": [
      "complete\n"
     ]
    }
   ],
   "source": [
    "parsed_content = {}\n",
    "print(\"complete\")"
   ]
  },
  {
   "cell_type": "code",
   "execution_count": 7,
   "id": "c4fb92b1",
   "metadata": {
    "execution": {
     "iopub.execute_input": "2022-09-01T20:33:08.279261Z",
     "iopub.status.busy": "2022-09-01T20:33:08.278570Z",
     "iopub.status.idle": "2022-09-01T20:33:08.286243Z",
     "shell.execute_reply": "2022-09-01T20:33:08.285290Z"
    },
    "papermill": {
     "duration": 0.017158,
     "end_time": "2022-09-01T20:33:08.288235",
     "exception": false,
     "start_time": "2022-09-01T20:33:08.271077",
     "status": "completed"
    },
    "tags": []
   },
   "outputs": [
    {
     "name": "stdout",
     "output_type": "stream",
     "text": [
      "['agaspar@as.arizona.edu', 'agaspar@as.arizona.edu']\n",
      "complete\n"
     ]
    }
   ],
   "source": [
    "#E-MAIL\n",
    "import re\n",
    "def get_email_addresses(string):\n",
    "    r = re.compile(r'[\\w\\.-]+@[\\w\\.-]+')\n",
    "    return r.findall(string)\n",
    "\n",
    "email = get_email_addresses(text)\n",
    "print(email)\n",
    "parsed_content['E-mail'] = email\n",
    "print(\"complete\")"
   ]
  },
  {
   "cell_type": "code",
   "execution_count": 8,
   "id": "f4846bde",
   "metadata": {
    "execution": {
     "iopub.execute_input": "2022-09-01T20:33:08.301934Z",
     "iopub.status.busy": "2022-09-01T20:33:08.301376Z",
     "iopub.status.idle": "2022-09-01T20:33:08.309308Z",
     "shell.execute_reply": "2022-09-01T20:33:08.308661Z"
    },
    "papermill": {
     "duration": 0.01699,
     "end_time": "2022-09-01T20:33:08.311288",
     "exception": false,
     "start_time": "2022-09-01T20:33:08.294298",
     "status": "completed"
    },
    "tags": []
   },
   "outputs": [
    {
     "name": "stdout",
     "output_type": "stream",
     "text": [
      "['7210065', '3600983', '0042006', '2212012']\n",
      "complete\n"
     ]
    }
   ],
   "source": [
    "#PHONE NUMBER\n",
    "import re\n",
    "def get_phone_numbers(string):\n",
    "    r = re.compile(r'(\\d{3}[-\\.\\s]??\\d{3}[-\\.\\s]??\\d{4}|\\(\\d{3}\\)\\s*\\d{3}[-\\.\\s]??\\d{4}|\\d{3}[-\\.\\s]??\\d{4})')\n",
    "    phone_numbers = r.findall(string)\n",
    "    return [re.sub(r'\\D', '', num) for num in phone_numbers]\n",
    "\n",
    "phone_number= get_phone_numbers(text)\n",
    "if len(phone_number) <= 10:\n",
    "    print(phone_number)\n",
    "    parsed_content['Phone number'] = phone_number\n",
    "print(\"complete\")"
   ]
  },
  {
   "cell_type": "code",
   "execution_count": 9,
   "id": "691f038e",
   "metadata": {
    "execution": {
     "iopub.execute_input": "2022-09-01T20:33:08.325268Z",
     "iopub.status.busy": "2022-09-01T20:33:08.324676Z",
     "iopub.status.idle": "2022-09-01T20:33:20.936446Z",
     "shell.execute_reply": "2022-09-01T20:33:20.934798Z"
    },
    "papermill": {
     "duration": 12.621472,
     "end_time": "2022-09-01T20:33:20.938873",
     "exception": false,
     "start_time": "2022-09-01T20:33:08.317401",
     "status": "completed"
    },
    "tags": []
   },
   "outputs": [
    {
     "name": "stdout",
     "output_type": "stream",
     "text": [
      "András Gáspár\n",
      "complete\n"
     ]
    }
   ],
   "source": [
    "import spacy\n",
    "nlp = spacy.load('en_core_web_sm')\n",
    "from spacy.matcher import Matcher\n",
    "matcher = Matcher(nlp.vocab)\n",
    "\n",
    "def extract_name(text):\n",
    "   nlp_text = nlp(text)\n",
    "  \n",
    "   # First name and Last name are always Proper Nouns\n",
    "   pattern = [{'POS': 'PROPN'}, {'POS': 'PROPN'}]\n",
    "  \n",
    "   matcher.add('NAME', [pattern], on_match = None)\n",
    "  \n",
    "   matches = matcher(nlp_text)\n",
    "  \n",
    "   for match_id, start, end in matches:\n",
    "       span = nlp_text[start:end]\n",
    "       return span.text\n",
    "\n",
    "name = extract_name(text)\n",
    "print(name)\n",
    "parsed_content['Name'] =  name\n",
    "print(\"complete\")"
   ]
  },
  {
   "cell_type": "code",
   "execution_count": 10,
   "id": "e0f77c26",
   "metadata": {
    "execution": {
     "iopub.execute_input": "2022-09-01T20:33:20.955128Z",
     "iopub.status.busy": "2022-09-01T20:33:20.954060Z",
     "iopub.status.idle": "2022-09-01T20:33:20.961613Z",
     "shell.execute_reply": "2022-09-01T20:33:20.960273Z"
    },
    "papermill": {
     "duration": 0.018326,
     "end_time": "2022-09-01T20:33:20.963988",
     "exception": false,
     "start_time": "2022-09-01T20:33:20.945662",
     "status": "completed"
    },
    "tags": []
   },
   "outputs": [
    {
     "name": "stdout",
     "output_type": "stream",
     "text": [
      "complete\n"
     ]
    }
   ],
   "source": [
    "Keywords = [\"education\",\n",
    "            \"summary\",\n",
    "            \"accomplishments\",\n",
    "            \"executive profile\",\n",
    "            \"professional profile\",\n",
    "            \"personal profile\",\n",
    "            \"work background\",\n",
    "            \"academic profile\",\n",
    "            \"other activities\",\n",
    "            \"qualifications\",\n",
    "            \"experience\",\n",
    "            \"interests\",\n",
    "            \"skills\",\n",
    "            \"achievements\",\n",
    "            \"publications\",\n",
    "            \"publication\",\n",
    "            \"certifications\",\n",
    "            \"workshops\",\n",
    "            \"projects\",\n",
    "            \"internships\",\n",
    "            \"trainings\",\n",
    "            \"hobbies\",\n",
    "            \"overview\",\n",
    "            \"objective\",\n",
    "            \"position of responsibility\",\n",
    "            \"jobs\"\n",
    "           ]\n",
    "print(\"complete\")"
   ]
  },
  {
   "cell_type": "code",
   "execution_count": 11,
   "id": "95f08559",
   "metadata": {
    "execution": {
     "iopub.execute_input": "2022-09-01T20:33:20.978840Z",
     "iopub.status.busy": "2022-09-01T20:33:20.978071Z",
     "iopub.status.idle": "2022-09-01T20:33:20.985688Z",
     "shell.execute_reply": "2022-09-01T20:33:20.984689Z"
    },
    "papermill": {
     "duration": 0.017309,
     "end_time": "2022-09-01T20:33:20.987758",
     "exception": false,
     "start_time": "2022-09-01T20:33:20.970449",
     "status": "completed"
    },
    "tags": []
   },
   "outputs": [
    {
     "name": "stdout",
     "output_type": "stream",
     "text": [
      "                                                          andrás gáspár 12/10/2016  contact information  steward observatory the university of arizona 933 n cherry avenue, rm 278 tucson, az 85721-0065  tel: (520)-360-0983 agaspar@as.arizona.edu http://merope.as.arizona.edu/˜agaspar u.s. permanent resident  research areas  circumstellar disks, exozodi, extrasolar planets, variable stars, open clus- ters, ism, coronagraphy, infrared detectors, hpc/gpu programming  education 2011 ph.d., astronomy, steward observatory, the university of arizona thesis: “observations and models of infrared debris disk signatures and  their evolution” advisor: prof. george h. rieke  2008 m.sc., astronomy, steward observatory, the university of arizona advisor: prof. george h. rieke  2006 b.sc., astronomy, university of szeged, hungary advisor: dr. zoltán balog  appointments 2017 - current adjunct faculty, pima community college (secondary job to advance teaching skills)  2014 - current senior research associate, steward obs., the uofa 2011 - 2014 postdoctoral researcher, steward obs., the uofa 2006 - 2011 research assistant, steward obs., the uofa 2005 research assistant, ukidss/ukirt, university of leeds  proposals/ grants (pi)  2012 pointing the finger: calibrating the hidden features of stis and enabling new coronagraphy at separations of 0.15 ′′  total award: 6 orbits on hst/stis ($88k) 2011 observing young debris disks with spire  total award: 2.2 hours of ot2 time with herschel (not carried out due to eom)  proposals/ grants (co-i)  2016 debris disk variability - exploring the diverse outcomes of large collisions during the eras of oligarchic and chaotic growth nasa adap ($200k)  2016 probing terrestrial planet formation with extreme disk variability total award: 120 h with spitzer space telescope  1  mailto:agaspar@as.arizona.edu http://merope.as.arizona.edu/~agaspar   2015 contrasting exoplanetary systems by resolving the debris disk around denebola total award: 8.5 h with alma  2014 earths in other solar systems: toward forming and discovering planets with biocritical ingredients nasa astrobiology institute proposal ( $7 million)  2014 decoding debris system substructures: imprints of planets/planetesimals and signatures of extrinsic influences on material in ring-like disks total award: 40 orbits on hst/stis ($280k)  2014 pushing to 8 au in the archetypal protoplanetary disk of tw hya total award: 8 orbits on hst/stis  2010 diversity in debris disks: snapshots of planetary system evolution total award: 109 h with spitzer space telescope ($266k)  2009 the master sample of spitzer debris disk measurements total award: 103 h with spitzer space telescope ($330k)  current research projects  • jwst/nircam gto debris disk program lead (50 hours) • jwst/miri gto archetypical debris disks program lead (50 hours) • jwst/miri science instrument team member • d3d: gpu based 3d debris disk model development program lead • hst/stis bar5 coronagraph calibration program lead (6 orbits on hst)  teaching/ outreach  2017 ast101in: solar system (hybrid course), pima community college  2010 ta for astr 202: life in the universe, uofa http://merope.as.arizona.edu/˜agaspar/astr202 professor: dr. christopher walker  2009 ta for astr 250: fundamentals of astronomy, uofa professor: dr. yancy shirley  2006 astronomical lab ii, university of szeged 2005 astronomical lab i, university of szeged 2001 - 2006 open nights at the public observatory, szeged, hungary  students • co-supervised: m.sc. for attila simon (ph.d.), the university of szeged, hungary (2004-2006)  • co-supervised: ph.d. for nick ballering, the university of arizona (2013- 2016)  2  http://merope.as.arizona.edu/~agaspar/astr202   honors/ awards  2005 27th national undergraduate conference physics, geology and mathe- matics section, \"stars and stellar clusters\" category i. prize thesis: mapping of starbirth regions in the near-infrared  2005 pro scientia gold medal from the hungarian academy of sciences 2005 albert szent-györgyi scholarship 2005 scholarship of the hungarian republic 2003 pro renovanda culturae scholarship 2003 26th national undergraduate conference physics, geology and mathe-  matics section, \"astrophysics\" category iii. prize thesis: the photometric study of open cluster ngc 2126  selected talks/ meetings  2016 national capital area disks meeting 2016 (ncad 2016) 2016 jwst gto meeting, victoria, ca 2014 search for life beyond the solar system. exoplanets,  biosignatures & instruments., tucson, az 2013 5th subaru international conference, kona, hi 2013 invited talk at aas #221 2012 nasa goddard extrasolar planets seminar 2012 stsci star and planet formation seminar series 2012 carnegie dtm astronomy group seminar 2012 national capital area disks meeting 2012 (ncad 2012) 2011 exploring strange new worlds, flagstaff, az  services • referee for the astrophysical journal, the astronomical journal, and as- tronomy & astrophysics  • hungarian translation of disk detective, nasa citizen science project • organized the summer disk seminar series 2012 at steward obs.  observing experience  60 cm schmidt (konkoly obs., mta; 3 weeks), 1 m rcc (konkoly obs., mta; 2 weeks), mmt (2 nights), bok 2.3 m (2 nights), mt. bigelow 48′′ (2 nights), hst (6 orbits), lbt (5 nights)  3    publications  citations of refereed articles (first authored/total): 193/667 h-index of refereed articles (first authored/total): 7/13  refereed first authored papers  ∗1. the correlation between metallicity and debris disk mass, gáspár, andrás, rieke, george, and ballering, nicholas 2016, the astrophysical journal, 826, 171g  ∗2. the herschel cold debris disks: confusion with the extragalactic background at 160 µm, gáspár, andrás, and rieke, george 2014, the astrophysical journal, 784, 33g  ∗3. the collisional evolution of debris disks, gáspár, andrás, rieke, george, and balog, zoltan 2013, the astrophysical journal, 768, 25  ∗4. modeling collisional cascades in debris disks: steep dust-size distributions, gáspár, andrás, psaltis, dimitrios, özel, feryal, rieke, george, and cooney, a. 2012, the astrophysical journal, 754, 74g  ∗5. modeling collisional cascades in debris disks: the numerical method, gáspár, andrás, psaltis, dimitrios, özel, feryal, rieke, george, and cooney, a. 2012, the astrophysical journal, 749, 14g  ∗6. the low level of debris disk activity at the time of the late heavy bombardment: a spitzer study of praesepe, gáspár, andrás, rieke, george h., su, kate y. l., balog, zoltán, trilling, david, muzzerole, james, apai, dániel, and kelly, brandon c. 2009, the astrophysical journal, 697, 1578g  ∗7. modeling the infrared bow shock at δ velorum: implications for studies of debris disks and λ boötis stars, gáspár, andrás, su, kate y. l., rieke, george h., balog, zoltán, kamp, inga, martínez- galarza, juan r., and stapelfeldt, karl 2008, the astrophysical journal, 672, 974g  ∗8. the first ccd photometric study of the open cluster ngc 2126, gáspár, a., kiss, l. l., bedding, t. r., derekas, a., kaspi, s., kiss, cs., sárneczky, k., szabó, gy. m., and váradi, m. 2003, astronomy & astrophysics, 410, 879g  4    refereed co-authored papers  9. chasing shadows: rotation of the azimuthal asymmetry in the tw hya disk, john h. debes, charles a. poteet, hannah jang-condell, andrás gáspár, dean hines, joel h. kastner, laurent pueyo, valerie rapson, aki roberge, glenn schneider, alycia j. weinberger 2016, aas journals, accepted  10. protoplanetary and transitional disks in the open stellar cluster ic 2395, balog, zoltan; siegler, nick; rieke, g. h.; kiss, l. l.; muzerolle, james; gutermuth, r. a.; bell, cameron p. m.; vinkó, j.; su, k. y. l.; young, e. t.; gáspár, andrás 2016, the astrophysical journal, 832, 87b  11. deep hst/stis visible-light imaging of debris systems around solar analog hosts, schneider, glenn; grady, carol a.; stark, christopher c.; gáspár, andrás; carson, joseph; debes, john h.; henning, thomas; hines, dean c.; jang-condell, hannah; kuchner, marc j.; perrin, marshall; rodigas, timothy j.; tamura, motohide; wisniewski, john p. 2016, the astrophysical journal, 152, 64s  12. nulling data reduction and on-sky performance of the large binocular telescope interferom- eter, defrère, d.; hinz, p. m.; mennesson, b.; hoffmann, w. f.; millan-gabet, r.; skemer, a. j.; bailey, v.; danchi, w. c.; downey, e. c.; durney, o.; grenz, p.; hill, j. m.; mcmahon, t. j.; montoya, m.; spalding, e.; vaz, a.; absil, o.; arbo, p.; bailey, h.; brusa, g.; bryden, g.; esposito, s.; gaspar, a.; haniff, c. a.; kennedy, g. m.; leisenring, j. m.; marion, l.; nowak, m.; pinna, e.; powell, k.; puglisi, a.; rieke, g.; roberge, a.; serabyn, e.; sosa, r.; stapeld- feldt, k.; su, k.; weinberger, a. j.; wyatt, m. c. 2016, the astrophysical journal, 824, 66d  13. a comprehensive dust model applied to the resolved beta pictoris debris disk from optical to radio wavelengths, ballering, nicholas p.; su, kate y. l.; rieke, george h.; gáspár, andrás 2016, the astrophysical journal, 823, 108b  14. discovery of an inner disk component around hd 141569 a, konishi, mihoko; grady, carol a.; schneider, glenn; shibai, hiroshi; mcelwain, michael w.; nesvold, erika r.; kuchner, marc j.; carson, joseph; debes, john. h.; gáspár, andrás; henning, thomas k.; hines, dean c.; hinz, philip m.; jang-condell, hannah; moro-martín, amaya; perrin, marshall; rodigas, timothy j.; serabyn, eugene; silverstone, murray d.; stark, christopher c.; tamura, motohide; weinberger, alycia j.; wisniewski, john. p. 2016, the astrophysical journal, 818l, 23k  15. magnetic grain trapping and the hot excesses around early-type stars, rieke, g. h.; gáspár, andrás; ballering, n. p. 2016, the astrophysical journal, 816, 50r  5    16. first-light lbt nulling interferometric observations: warm exozodiacal dust resolved within a few au of η crv, defrère, d.; hinz, p. m.; skemer, a. j.; kennedy, g. m.; bailey, v. p.; hoffmann, w. f.; mennesson, b.; millan-gabet, r.; danchi, w. c.; absil, o.; arbo, p.; beichman, c.; brusa, g.; bryden, g.; downey, e. c.; durney, o.; esposito, s.; gáspár, a.; grenz, p.; haniff, c.; hill, j. m.; lebreton, j.; leisenring, j. m.; males, j. r.; marion, l.; mcmahon, t. j.; montoya, m.; morzinski, k. m.; pinna, e.; puglisi, a.; rieke, g.; roberge, a.; serabyn, e.; sosa, r.; stapeldfeldt, k.; su, k.; vaitheeswaran, v.; vaz, a.; weinberger, a. j.; wyatt, m. c. 2015, the astrophysical journal, 799, 42d  17. probing the terrestrial regions of planetary systems: warm debris disks with emission fea- tures, ballering, nicholas p.; rieke, george h.; gáspár, andrás 2014, the astrophysical journal, 793, 57b  18. the decay of debris disks around solar-type stars, sierchio, j. m.; rieke, g. h.; su, k. y. l.; gáspár, andrás 2014, the astrophysical journal, 785, 33s  19. dust formation in the ejecta of the type ii-p supernova 2004dj, szalai, tamás, vinkó, józsef, balog, zoltán, gáspár, andrás, block, miwa, and kiss, lászló l. 2011, astronomy & astrophysics, 527a, 61s  20. hst and spitzer observations of the hd 207129 debris ring, krist, john e., stapelfeldt, karl r., bryden, geoffrey, rieke, george h., su, kate y. l., chen, christine c., beichman, charles a., hines, dean c., rebull, luisa m., tanner, angelle, trilling, david e., clampin, mark, and gáspár, andrás 2010, astronomical journal, 140, 1051k  21. spitzer/irac-mips survey of ngc 2451 a and b: debris disks at 50-80 million years, balog, zoltán, kiss, lászló l., vinkó, józsef, rieke, george h., muzerolle, james, gáspár, andrás, young, erick t., and gorlova, nadya 2009, the astrophysical journal, 698, 1989b  22. infrared emission by dust around lambda bootis stars: debris disks or thermally emitting nebulae?, martínez-galarza, juan r., kamp, inga, su, kate y. l., gáspár, andrás, rieke, george h., and mamajek, erik e. 2009, the astrophysical journal, 694, 165m  23. the ukidss galactic plane survey, lucas, p. w., hoare, m. g., longmore, a., schröder, a. c., davis, c. j., adamson, a., bandy- opadhyay, r. m., de grijs, r., smith, m., gosling, a., mitchison, s.; gáspár, a., coe, m.,  6    tamura, m., parker, q., irwin, m., hambly, n., bryant, j., collins, r. s., cross, n., evans, d. w., gonzalez-solares, e., hodgkin, s., lewis, j., read, m., riello, m., sutorius, e. t. w., lawrence, a., drew, j. e., dye, s., and thompson, m. a. 2008, the monthly notices of the royal astronomical society, 391, 136l  24. lynds 1622: a nearby star-forming cloud projected on orion b?, kun, m., balog, z., mizuno, n., kawamura, a., gáspár, a., kenyon, s. j., and fukui, y. 2008, the monthly notices of the royal astronomical society, 391, 84k  25. photoevaporation of protoplanetary disks, balog, zoltán, rieke, george h., muzerolle, james, bally, john, su, kate y. l., misselt, karl, and gáspár, andrás 2008, the astrophysical journal, 688, 408b  26. low-mass star formation in lynds 1333, kun, m., nikolić, s., johansson, l. e. b., balog, z., and gáspár, a. 2006, the monthly notices of the royal astronomical society, 371, 732k  27. the first year of sn 2004dj in ngc 2403, vinkó, j., takáts, k., sárneczky, k., szabó, gy. m., mészáros, sz., csorvási, r., szalai, t., gáspár, a., pál, a., csizmadia, sz., kóspál, a., rácz, m., kun, m., csák, b., fűrész, g., debond, h., grunhut, j., thomson, j., mochnacki, s., and koktay, t. 2006, the monthly notices of the royal astronomical society, 369, 1780v  28. a near-infrared (jhk) survey of the vicinity of the hii region ngc 7538: evidence for a young embedded cluster, balog, z., kenyon, s. j., lada, e. a., barsony, m., vinkó, j., and gáspár, a. 2004, the astronomical journal, 128, 2942b  conference abstracts and proceedings  ∗1. the collisional evolution of debris disks, 2014, poster presented at search for life beyond the solar system. exoplanets, biosignatures & instruments., tucson, az  ∗2. the collisional evolution of debris disks, 2013, poster presented at 5th subaru international conference, kona, hi  ∗3. debris disk time evolution - connecting observations with theory, 2013, talk presented at aas #221, long beach, ca  ∗4. the collisional evolution of debris disks, 2012, talk presented at the national capital area disks meeting, stsci, baltimore, md  7    ∗5. a new numerical model of collisional cascades in debris disks, gáspár, andrás, psaltis, dimitrios, özel, feryal, rieke, george, and cooney, a. 2011, poster presented at exploring strange new worlds, flagstaff, az  6. the master sample of spitzer debris disk measurements, su, kate y. l., rieke, g., stapelfeldt, k., bryden, g., werner, m., plavchan, p., trilling, d., gáspár, a., and morales, f. 2010, american astronomical society, aas meeting #215  ∗7. false signs of debris disks, gáspár, andrás, su, kate y. l., rieke, george h., balog, zoltán, mamajek, eric, kamp, inga, martínez-galarza, juan r., stapelfeldt, k. 2008, poster presented at new light on young stars: spitzer’s view of circumstellar disks, pasadena, ca  8. λ boötis stars: current status and new insights from spitzer, kamp, i., martínez-galarza, j. r., paunzen, e., su, k. y. l., gáspár, a., and rieke, g. h. 2008, contributions of the astronomical observatory skalnatãl’ pleso, vol. 38, no. 2, p. 147-156  ∗9. preliminary results on newly discovered embedded clusters, gáspár, andrás, balog, zoltán, makai, zoltán, vinkó, józsef, and kenyon, scott 2005, cores to clusters: star formation with next generation telescopes, porto, portugal, p. 209  ∗10. a variable star survey of the open cluster ngc 2126, gáspár, a., kiss, l. l., derekas, a., bedding, t. r., kaspi, s., kiss, c., sárneczky, k., szabó, g. m., and váradi, m. 2004, communications in astroseismology, 145, 70  11. a variable star survey of the open cluster ngc 2126, derekas, a., kiss, l. l., bedding, t. r., gáspár, a., sárneczky, k., szabó, gy. m., váradi, m., kaspi, s., and kiss, cs. 2004, variable stars in the local group, iau colloquium 193, new zealand, asp conference proceedings, vol. 310, p. 162  8   \n",
      "complete\n"
     ]
    }
   ],
   "source": [
    "text = text.replace(\"\\n\",\" \")\n",
    "text = text.replace(\"[^a-zA-Z0-9]\", \" \");  \n",
    "re.sub('\\W+','', text)\n",
    "text = text.lower()\n",
    "print(text)\n",
    "print(\"complete\")"
   ]
  },
  {
   "cell_type": "code",
   "execution_count": 12,
   "id": "4363a7f0",
   "metadata": {
    "execution": {
     "iopub.execute_input": "2022-09-01T20:33:21.001899Z",
     "iopub.status.busy": "2022-09-01T20:33:21.001595Z",
     "iopub.status.idle": "2022-09-01T20:33:21.007899Z",
     "shell.execute_reply": "2022-09-01T20:33:21.006986Z"
    },
    "papermill": {
     "duration": 0.015566,
     "end_time": "2022-09-01T20:33:21.009921",
     "exception": false,
     "start_time": "2022-09-01T20:33:20.994355",
     "status": "completed"
    },
    "tags": []
   },
   "outputs": [
    {
     "name": "stdout",
     "output_type": "stream",
     "text": [
      "complete\n"
     ]
    }
   ],
   "source": [
    "content = {}\n",
    "indices = []\n",
    "keys = []\n",
    "for key in Keywords:\n",
    "    try:\n",
    "        content[key] = text[text.index(key) + len(key):]\n",
    "        indices.append(text.index(key))\n",
    "        keys.append(key)\n",
    "    except:\n",
    "        pass\n",
    "    \n",
    "print(\"complete\")"
   ]
  },
  {
   "cell_type": "code",
   "execution_count": 13,
   "id": "4a5b5745",
   "metadata": {
    "execution": {
     "iopub.execute_input": "2022-09-01T20:33:21.025057Z",
     "iopub.status.busy": "2022-09-01T20:33:21.024654Z",
     "iopub.status.idle": "2022-09-01T20:33:21.032574Z",
     "shell.execute_reply": "2022-09-01T20:33:21.030953Z"
    },
    "papermill": {
     "duration": 0.019096,
     "end_time": "2022-09-01T20:33:21.035612",
     "exception": false,
     "start_time": "2022-09-01T20:33:21.016516",
     "status": "completed"
    },
    "tags": []
   },
   "outputs": [
    {
     "name": "stdout",
     "output_type": "stream",
     "text": [
      "['education', 'skills', 'projects', 'experience', 'publication', 'publications']\n",
      "complete\n"
     ]
    }
   ],
   "source": [
    "#Sorting the indices\n",
    "zipped_lists = zip(indices, keys)\n",
    "sorted_pairs = sorted(zipped_lists)\n",
    "sorted_pairs\n",
    "\n",
    "tuples = zip(*sorted_pairs)\n",
    "indices, keys = [ list(tuple) for tuple in  tuples]\n",
    "print(keys)\n",
    "print(\"complete\")"
   ]
  },
  {
   "cell_type": "code",
   "execution_count": 14,
   "id": "55c25b67",
   "metadata": {
    "execution": {
     "iopub.execute_input": "2022-09-01T20:33:21.052230Z",
     "iopub.status.busy": "2022-09-01T20:33:21.051183Z",
     "iopub.status.idle": "2022-09-01T20:33:21.057222Z",
     "shell.execute_reply": "2022-09-01T20:33:21.056540Z"
    },
    "papermill": {
     "duration": 0.016276,
     "end_time": "2022-09-01T20:33:21.059312",
     "exception": false,
     "start_time": "2022-09-01T20:33:21.043036",
     "status": "completed"
    },
    "tags": []
   },
   "outputs": [
    {
     "name": "stdout",
     "output_type": "stream",
     "text": [
      "complete\n"
     ]
    }
   ],
   "source": [
    "#Keeping the required content and removing the redundant part\n",
    "content = []\n",
    "for idx in range(len(indices)):\n",
    "    if idx != len(indices)-1:\n",
    "        content.append(text[indices[idx]: indices[idx+1]])\n",
    "    else:\n",
    "        content.append(text[indices[idx]: ])\n",
    "print(\"complete\")"
   ]
  },
  {
   "cell_type": "code",
   "execution_count": 15,
   "id": "c6b7e539",
   "metadata": {
    "execution": {
     "iopub.execute_input": "2022-09-01T20:33:21.075857Z",
     "iopub.status.busy": "2022-09-01T20:33:21.075457Z",
     "iopub.status.idle": "2022-09-01T20:33:21.080046Z",
     "shell.execute_reply": "2022-09-01T20:33:21.079278Z"
    },
    "papermill": {
     "duration": 0.015092,
     "end_time": "2022-09-01T20:33:21.081973",
     "exception": false,
     "start_time": "2022-09-01T20:33:21.066881",
     "status": "completed"
    },
    "tags": []
   },
   "outputs": [
    {
     "name": "stdout",
     "output_type": "stream",
     "text": [
      "complete\n"
     ]
    }
   ],
   "source": [
    "for i in range(len(indices)):\n",
    "    parsed_content[keys[i]] = content[i]  \n",
    "print(\"complete\")"
   ]
  },
  {
   "cell_type": "code",
   "execution_count": 16,
   "id": "2351ef97",
   "metadata": {
    "execution": {
     "iopub.execute_input": "2022-09-01T20:33:21.098066Z",
     "iopub.status.busy": "2022-09-01T20:33:21.097625Z",
     "iopub.status.idle": "2022-09-01T20:33:21.103268Z",
     "shell.execute_reply": "2022-09-01T20:33:21.102249Z"
    },
    "papermill": {
     "duration": 0.016551,
     "end_time": "2022-09-01T20:33:21.105834",
     "exception": false,
     "start_time": "2022-09-01T20:33:21.089283",
     "status": "completed"
    },
    "tags": []
   },
   "outputs": [
    {
     "name": "stdout",
     "output_type": "stream",
     "text": [
      "{'E-mail': ['agaspar@as.arizona.edu', 'agaspar@as.arizona.edu'], 'Phone number': ['7210065', '3600983', '0042006', '2212012'], 'Name': 'András Gáspár', 'education': 'education 2011 ph.d., astronomy, steward observatory, the university of arizona thesis: “observations and models of infrared debris disk signatures and  their evolution” advisor: prof. george h. rieke  2008 m.sc., astronomy, steward observatory, the university of arizona advisor: prof. george h. rieke  2006 b.sc., astronomy, university of szeged, hungary advisor: dr. zoltán balog  appointments 2017 - current adjunct faculty, pima community college (secondary job to advance teaching ', 'skills': 'skills)  2014 - current senior research associate, steward obs., the uofa 2011 - 2014 postdoctoral researcher, steward obs., the uofa 2006 - 2011 research assistant, steward obs., the uofa 2005 research assistant, ukidss/ukirt, university of leeds  proposals/ grants (pi)  2012 pointing the finger: calibrating the hidden features of stis and enabling new coronagraphy at separations of 0.15 ′′  total award: 6 orbits on hst/stis ($88k) 2011 observing young debris disks with spire  total award: 2.2 hours of ot2 time with herschel (not carried out due to eom)  proposals/ grants (co-i)  2016 debris disk variability - exploring the diverse outcomes of large collisions during the eras of oligarchic and chaotic growth nasa adap ($200k)  2016 probing terrestrial planet formation with extreme disk variability total award: 120 h with spitzer space telescope  1  mailto:agaspar@as.arizona.edu http://merope.as.arizona.edu/~agaspar   2015 contrasting exoplanetary systems by resolving the debris disk around denebola total award: 8.5 h with alma  2014 earths in other solar systems: toward forming and discovering planets with biocritical ingredients nasa astrobiology institute proposal ( $7 million)  2014 decoding debris system substructures: imprints of planets/planetesimals and signatures of extrinsic influences on material in ring-like disks total award: 40 orbits on hst/stis ($280k)  2014 pushing to 8 au in the archetypal protoplanetary disk of tw hya total award: 8 orbits on hst/stis  2010 diversity in debris disks: snapshots of planetary system evolution total award: 109 h with spitzer space telescope ($266k)  2009 the master sample of spitzer debris disk measurements total award: 103 h with spitzer space telescope ($330k)  current research ', 'projects': 'projects  • jwst/nircam gto debris disk program lead (50 hours) • jwst/miri gto archetypical debris disks program lead (50 hours) • jwst/miri science instrument team member • d3d: gpu based 3d debris disk model development program lead • hst/stis bar5 coronagraph calibration program lead (6 orbits on hst)  teaching/ outreach  2017 ast101in: solar system (hybrid course), pima community college  2010 ta for astr 202: life in the universe, uofa http://merope.as.arizona.edu/˜agaspar/astr202 professor: dr. christopher walker  2009 ta for astr 250: fundamentals of astronomy, uofa professor: dr. yancy shirley  2006 astronomical lab ii, university of szeged 2005 astronomical lab i, university of szeged 2001 - 2006 open nights at the public observatory, szeged, hungary  students • co-supervised: m.sc. for attila simon (ph.d.), the university of szeged, hungary (2004-2006)  • co-supervised: ph.d. for nick ballering, the university of arizona (2013- 2016)  2  http://merope.as.arizona.edu/~agaspar/astr202   honors/ awards  2005 27th national undergraduate conference physics, geology and mathe- matics section, \"stars and stellar clusters\" category i. prize thesis: mapping of starbirth regions in the near-infrared  2005 pro scientia gold medal from the hungarian academy of sciences 2005 albert szent-györgyi scholarship 2005 scholarship of the hungarian republic 2003 pro renovanda culturae scholarship 2003 26th national undergraduate conference physics, geology and mathe-  matics section, \"astrophysics\" category iii. prize thesis: the photometric study of open cluster ngc 2126  selected talks/ meetings  2016 national capital area disks meeting 2016 (ncad 2016) 2016 jwst gto meeting, victoria, ca 2014 search for life beyond the solar system. exoplanets,  biosignatures & instruments., tucson, az 2013 5th subaru international conference, kona, hi 2013 invited talk at aas #221 2012 nasa goddard extrasolar planets seminar 2012 stsci star and planet formation seminar series 2012 carnegie dtm astronomy group seminar 2012 national capital area disks meeting 2012 (ncad 2012) 2011 exploring strange new worlds, flagstaff, az  services • referee for the astrophysical journal, the astronomical journal, and as- tronomy & astrophysics  • hungarian translation of disk detective, nasa citizen science project • organized the summer disk seminar series 2012 at steward obs.  observing ', 'experience': 'experience  60 cm schmidt (konkoly obs., mta; 3 weeks), 1 m rcc (konkoly obs., mta; 2 weeks), mmt (2 nights), bok 2.3 m (2 nights), mt. bigelow 48′′ (2 nights), hst (6 orbits), lbt (5 nights)  3    ', 'publication': '', 'publications': 'publications  citations of refereed articles (first authored/total): 193/667 h-index of refereed articles (first authored/total): 7/13  refereed first authored papers  ∗1. the correlation between metallicity and debris disk mass, gáspár, andrás, rieke, george, and ballering, nicholas 2016, the astrophysical journal, 826, 171g  ∗2. the herschel cold debris disks: confusion with the extragalactic background at 160 µm, gáspár, andrás, and rieke, george 2014, the astrophysical journal, 784, 33g  ∗3. the collisional evolution of debris disks, gáspár, andrás, rieke, george, and balog, zoltan 2013, the astrophysical journal, 768, 25  ∗4. modeling collisional cascades in debris disks: steep dust-size distributions, gáspár, andrás, psaltis, dimitrios, özel, feryal, rieke, george, and cooney, a. 2012, the astrophysical journal, 754, 74g  ∗5. modeling collisional cascades in debris disks: the numerical method, gáspár, andrás, psaltis, dimitrios, özel, feryal, rieke, george, and cooney, a. 2012, the astrophysical journal, 749, 14g  ∗6. the low level of debris disk activity at the time of the late heavy bombardment: a spitzer study of praesepe, gáspár, andrás, rieke, george h., su, kate y. l., balog, zoltán, trilling, david, muzzerole, james, apai, dániel, and kelly, brandon c. 2009, the astrophysical journal, 697, 1578g  ∗7. modeling the infrared bow shock at δ velorum: implications for studies of debris disks and λ boötis stars, gáspár, andrás, su, kate y. l., rieke, george h., balog, zoltán, kamp, inga, martínez- galarza, juan r., and stapelfeldt, karl 2008, the astrophysical journal, 672, 974g  ∗8. the first ccd photometric study of the open cluster ngc 2126, gáspár, a., kiss, l. l., bedding, t. r., derekas, a., kaspi, s., kiss, cs., sárneczky, k., szabó, gy. m., and váradi, m. 2003, astronomy & astrophysics, 410, 879g  4    refereed co-authored papers  9. chasing shadows: rotation of the azimuthal asymmetry in the tw hya disk, john h. debes, charles a. poteet, hannah jang-condell, andrás gáspár, dean hines, joel h. kastner, laurent pueyo, valerie rapson, aki roberge, glenn schneider, alycia j. weinberger 2016, aas journals, accepted  10. protoplanetary and transitional disks in the open stellar cluster ic 2395, balog, zoltan; siegler, nick; rieke, g. h.; kiss, l. l.; muzerolle, james; gutermuth, r. a.; bell, cameron p. m.; vinkó, j.; su, k. y. l.; young, e. t.; gáspár, andrás 2016, the astrophysical journal, 832, 87b  11. deep hst/stis visible-light imaging of debris systems around solar analog hosts, schneider, glenn; grady, carol a.; stark, christopher c.; gáspár, andrás; carson, joseph; debes, john h.; henning, thomas; hines, dean c.; jang-condell, hannah; kuchner, marc j.; perrin, marshall; rodigas, timothy j.; tamura, motohide; wisniewski, john p. 2016, the astrophysical journal, 152, 64s  12. nulling data reduction and on-sky performance of the large binocular telescope interferom- eter, defrère, d.; hinz, p. m.; mennesson, b.; hoffmann, w. f.; millan-gabet, r.; skemer, a. j.; bailey, v.; danchi, w. c.; downey, e. c.; durney, o.; grenz, p.; hill, j. m.; mcmahon, t. j.; montoya, m.; spalding, e.; vaz, a.; absil, o.; arbo, p.; bailey, h.; brusa, g.; bryden, g.; esposito, s.; gaspar, a.; haniff, c. a.; kennedy, g. m.; leisenring, j. m.; marion, l.; nowak, m.; pinna, e.; powell, k.; puglisi, a.; rieke, g.; roberge, a.; serabyn, e.; sosa, r.; stapeld- feldt, k.; su, k.; weinberger, a. j.; wyatt, m. c. 2016, the astrophysical journal, 824, 66d  13. a comprehensive dust model applied to the resolved beta pictoris debris disk from optical to radio wavelengths, ballering, nicholas p.; su, kate y. l.; rieke, george h.; gáspár, andrás 2016, the astrophysical journal, 823, 108b  14. discovery of an inner disk component around hd 141569 a, konishi, mihoko; grady, carol a.; schneider, glenn; shibai, hiroshi; mcelwain, michael w.; nesvold, erika r.; kuchner, marc j.; carson, joseph; debes, john. h.; gáspár, andrás; henning, thomas k.; hines, dean c.; hinz, philip m.; jang-condell, hannah; moro-martín, amaya; perrin, marshall; rodigas, timothy j.; serabyn, eugene; silverstone, murray d.; stark, christopher c.; tamura, motohide; weinberger, alycia j.; wisniewski, john. p. 2016, the astrophysical journal, 818l, 23k  15. magnetic grain trapping and the hot excesses around early-type stars, rieke, g. h.; gáspár, andrás; ballering, n. p. 2016, the astrophysical journal, 816, 50r  5    16. first-light lbt nulling interferometric observations: warm exozodiacal dust resolved within a few au of η crv, defrère, d.; hinz, p. m.; skemer, a. j.; kennedy, g. m.; bailey, v. p.; hoffmann, w. f.; mennesson, b.; millan-gabet, r.; danchi, w. c.; absil, o.; arbo, p.; beichman, c.; brusa, g.; bryden, g.; downey, e. c.; durney, o.; esposito, s.; gáspár, a.; grenz, p.; haniff, c.; hill, j. m.; lebreton, j.; leisenring, j. m.; males, j. r.; marion, l.; mcmahon, t. j.; montoya, m.; morzinski, k. m.; pinna, e.; puglisi, a.; rieke, g.; roberge, a.; serabyn, e.; sosa, r.; stapeldfeldt, k.; su, k.; vaitheeswaran, v.; vaz, a.; weinberger, a. j.; wyatt, m. c. 2015, the astrophysical journal, 799, 42d  17. probing the terrestrial regions of planetary systems: warm debris disks with emission fea- tures, ballering, nicholas p.; rieke, george h.; gáspár, andrás 2014, the astrophysical journal, 793, 57b  18. the decay of debris disks around solar-type stars, sierchio, j. m.; rieke, g. h.; su, k. y. l.; gáspár, andrás 2014, the astrophysical journal, 785, 33s  19. dust formation in the ejecta of the type ii-p supernova 2004dj, szalai, tamás, vinkó, józsef, balog, zoltán, gáspár, andrás, block, miwa, and kiss, lászló l. 2011, astronomy & astrophysics, 527a, 61s  20. hst and spitzer observations of the hd 207129 debris ring, krist, john e., stapelfeldt, karl r., bryden, geoffrey, rieke, george h., su, kate y. l., chen, christine c., beichman, charles a., hines, dean c., rebull, luisa m., tanner, angelle, trilling, david e., clampin, mark, and gáspár, andrás 2010, astronomical journal, 140, 1051k  21. spitzer/irac-mips survey of ngc 2451 a and b: debris disks at 50-80 million years, balog, zoltán, kiss, lászló l., vinkó, józsef, rieke, george h., muzerolle, james, gáspár, andrás, young, erick t., and gorlova, nadya 2009, the astrophysical journal, 698, 1989b  22. infrared emission by dust around lambda bootis stars: debris disks or thermally emitting nebulae?, martínez-galarza, juan r., kamp, inga, su, kate y. l., gáspár, andrás, rieke, george h., and mamajek, erik e. 2009, the astrophysical journal, 694, 165m  23. the ukidss galactic plane survey, lucas, p. w., hoare, m. g., longmore, a., schröder, a. c., davis, c. j., adamson, a., bandy- opadhyay, r. m., de grijs, r., smith, m., gosling, a., mitchison, s.; gáspár, a., coe, m.,  6    tamura, m., parker, q., irwin, m., hambly, n., bryant, j., collins, r. s., cross, n., evans, d. w., gonzalez-solares, e., hodgkin, s., lewis, j., read, m., riello, m., sutorius, e. t. w., lawrence, a., drew, j. e., dye, s., and thompson, m. a. 2008, the monthly notices of the royal astronomical society, 391, 136l  24. lynds 1622: a nearby star-forming cloud projected on orion b?, kun, m., balog, z., mizuno, n., kawamura, a., gáspár, a., kenyon, s. j., and fukui, y. 2008, the monthly notices of the royal astronomical society, 391, 84k  25. photoevaporation of protoplanetary disks, balog, zoltán, rieke, george h., muzerolle, james, bally, john, su, kate y. l., misselt, karl, and gáspár, andrás 2008, the astrophysical journal, 688, 408b  26. low-mass star formation in lynds 1333, kun, m., nikolić, s., johansson, l. e. b., balog, z., and gáspár, a. 2006, the monthly notices of the royal astronomical society, 371, 732k  27. the first year of sn 2004dj in ngc 2403, vinkó, j., takáts, k., sárneczky, k., szabó, gy. m., mészáros, sz., csorvási, r., szalai, t., gáspár, a., pál, a., csizmadia, sz., kóspál, a., rácz, m., kun, m., csák, b., fűrész, g., debond, h., grunhut, j., thomson, j., mochnacki, s., and koktay, t. 2006, the monthly notices of the royal astronomical society, 369, 1780v  28. a near-infrared (jhk) survey of the vicinity of the hii region ngc 7538: evidence for a young embedded cluster, balog, z., kenyon, s. j., lada, e. a., barsony, m., vinkó, j., and gáspár, a. 2004, the astronomical journal, 128, 2942b  conference abstracts and proceedings  ∗1. the collisional evolution of debris disks, 2014, poster presented at search for life beyond the solar system. exoplanets, biosignatures & instruments., tucson, az  ∗2. the collisional evolution of debris disks, 2013, poster presented at 5th subaru international conference, kona, hi  ∗3. debris disk time evolution - connecting observations with theory, 2013, talk presented at aas #221, long beach, ca  ∗4. the collisional evolution of debris disks, 2012, talk presented at the national capital area disks meeting, stsci, baltimore, md  7    ∗5. a new numerical model of collisional cascades in debris disks, gáspár, andrás, psaltis, dimitrios, özel, feryal, rieke, george, and cooney, a. 2011, poster presented at exploring strange new worlds, flagstaff, az  6. the master sample of spitzer debris disk measurements, su, kate y. l., rieke, g., stapelfeldt, k., bryden, g., werner, m., plavchan, p., trilling, d., gáspár, a., and morales, f. 2010, american astronomical society, aas meeting #215  ∗7. false signs of debris disks, gáspár, andrás, su, kate y. l., rieke, george h., balog, zoltán, mamajek, eric, kamp, inga, martínez-galarza, juan r., stapelfeldt, k. 2008, poster presented at new light on young stars: spitzer’s view of circumstellar disks, pasadena, ca  8. λ boötis stars: current status and new insights from spitzer, kamp, i., martínez-galarza, j. r., paunzen, e., su, k. y. l., gáspár, a., and rieke, g. h. 2008, contributions of the astronomical observatory skalnatãl’ pleso, vol. 38, no. 2, p. 147-156  ∗9. preliminary results on newly discovered embedded clusters, gáspár, andrás, balog, zoltán, makai, zoltán, vinkó, józsef, and kenyon, scott 2005, cores to clusters: star formation with next generation telescopes, porto, portugal, p. 209  ∗10. a variable star survey of the open cluster ngc 2126, gáspár, a., kiss, l. l., derekas, a., bedding, t. r., kaspi, s., kiss, c., sárneczky, k., szabó, g. m., and váradi, m. 2004, communications in astroseismology, 145, 70  11. a variable star survey of the open cluster ngc 2126, derekas, a., kiss, l. l., bedding, t. r., gáspár, a., sárneczky, k., szabó, gy. m., váradi, m., kaspi, s., and kiss, cs. 2004, variable stars in the local group, iau colloquium 193, new zealand, asp conference proceedings, vol. 310, p. 162  8   '}\n",
      "complete\n"
     ]
    }
   ],
   "source": [
    "print(parsed_content)\n",
    "print(\"complete\")"
   ]
  },
  {
   "cell_type": "code",
   "execution_count": 17,
   "id": "a93e24b3",
   "metadata": {
    "execution": {
     "iopub.execute_input": "2022-09-01T20:33:21.122832Z",
     "iopub.status.busy": "2022-09-01T20:33:21.122428Z",
     "iopub.status.idle": "2022-09-01T20:33:21.137183Z",
     "shell.execute_reply": "2022-09-01T20:33:21.135497Z"
    },
    "papermill": {
     "duration": 0.025252,
     "end_time": "2022-09-01T20:33:21.139346",
     "exception": false,
     "start_time": "2022-09-01T20:33:21.114094",
     "status": "completed"
    },
    "tags": []
   },
   "outputs": [
    {
     "name": "stdout",
     "output_type": "stream",
     "text": [
      "              0                                                  1\n",
      "0        E-mail   [agaspar@as.arizona.edu, agaspar@as.arizona.edu]\n",
      "1  Phone number               [7210065, 3600983, 0042006, 2212012]\n",
      "2          Name                                      András Gáspár\n",
      "3     education  education 2011 ph.d., astronomy, steward obser...\n",
      "4        skills  skills)  2014 - current senior research associ...\n",
      "5      projects  projects  • jwst/nircam gto debris disk progra...\n",
      "6    experience  experience  60 cm schmidt (konkoly obs., mta; ...\n",
      "7   publication                                                   \n",
      "8  publications  publications  citations of refereed articles (...\n",
      "complete\n"
     ]
    }
   ],
   "source": [
    "df=pd.DataFrame(parsed_content.items()) \n",
    "print(df)\n",
    "print(\"complete\")"
   ]
  },
  {
   "cell_type": "code",
   "execution_count": 18,
   "id": "802a3651",
   "metadata": {
    "execution": {
     "iopub.execute_input": "2022-09-01T20:33:21.155922Z",
     "iopub.status.busy": "2022-09-01T20:33:21.155513Z",
     "iopub.status.idle": "2022-09-01T20:33:21.159863Z",
     "shell.execute_reply": "2022-09-01T20:33:21.159190Z"
    },
    "papermill": {
     "duration": 0.014721,
     "end_time": "2022-09-01T20:33:21.161538",
     "exception": false,
     "start_time": "2022-09-01T20:33:21.146817",
     "status": "completed"
    },
    "tags": []
   },
   "outputs": [
    {
     "name": "stdout",
     "output_type": "stream",
     "text": [
      "complete\n"
     ]
    }
   ],
   "source": [
    "print(\"complete\")"
   ]
  }
 ],
 "metadata": {
  "kernelspec": {
   "display_name": "Python 3",
   "language": "python",
   "name": "python3"
  },
  "language_info": {
   "codemirror_mode": {
    "name": "ipython",
    "version": 3
   },
   "file_extension": ".py",
   "mimetype": "text/x-python",
   "name": "python",
   "nbconvert_exporter": "python",
   "pygments_lexer": "ipython3",
   "version": "3.7.12"
  },
  "papermill": {
   "default_parameters": {},
   "duration": 58.857344,
   "end_time": "2022-09-01T20:33:24.532211",
   "environment_variables": {},
   "exception": null,
   "input_path": "__notebook__.ipynb",
   "output_path": "__notebook__.ipynb",
   "parameters": {},
   "start_time": "2022-09-01T20:32:25.674867",
   "version": "2.3.4"
  }
 },
 "nbformat": 4,
 "nbformat_minor": 5
}
