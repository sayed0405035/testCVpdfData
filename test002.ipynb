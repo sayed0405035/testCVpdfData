{
 "cells": [
  {
   "cell_type": "code",
   "execution_count": 1,
   "id": "e2e919eb",
   "metadata": {
    "_cell_guid": "b1076dfc-b9ad-4769-8c92-a6c4dae69d19",
    "_uuid": "8f2839f25d086af736a60e9eeb907d3b93b6e0e5",
    "execution": {
     "iopub.execute_input": "2022-08-28T08:50:01.136418Z",
     "iopub.status.busy": "2022-08-28T08:50:01.135902Z",
     "iopub.status.idle": "2022-08-28T08:50:01.158013Z",
     "shell.execute_reply": "2022-08-28T08:50:01.157016Z"
    },
    "papermill": {
     "duration": 0.033786,
     "end_time": "2022-08-28T08:50:01.161088",
     "exception": false,
     "start_time": "2022-08-28T08:50:01.127302",
     "status": "completed"
    },
    "tags": []
   },
   "outputs": [
    {
     "name": "stdout",
     "output_type": "stream",
     "text": [
      "/kaggle/input/cvalltogether/CV_brief.pdf\n",
      "/kaggle/input/cvalltogether/drmperfect_cv-april-2020.pdf\n",
      "/kaggle/input/cvalltogether/vita_external.pdf\n",
      "/kaggle/input/cvalltogether/Klar CV.pdf\n",
      "/kaggle/input/cvalltogether/blee_cv_2016.pdf\n",
      "/kaggle/input/cvalltogether/Canales_Robert_CV.pdf\n",
      "/kaggle/input/cvalltogether/MOORE-MONROY2015_0.pdf\n",
      "/kaggle/input/cvalltogether/CURRICULUM-VITAE_DHG_012519.pdf\n",
      "/kaggle/input/cvalltogether/RobertsonCV0818-2.pdf\n",
      "/kaggle/input/cvalltogether/hameroff2016cv_0.pdf\n",
      "/kaggle/input/cvalltogether/Alison-M-Meadow-cv.pdf\n",
      "/kaggle/input/cvalltogether/agaspar_cv.pdf\n",
      "/kaggle/input/cvalltogether/JO - 2171.pdf\n",
      "/kaggle/input/cvalltogether/Hoit CV (4-11-16).pdf\n",
      "/kaggle/input/cvalltogether/Liverman Selected CV May 2018.pdf\n",
      "/kaggle/input/cvalltogether/LBarraza CV 2020.pdf\n",
      "complete\n"
     ]
    }
   ],
   "source": [
    "# This Python 3 environment comes with many helpful analytics libraries installed\n",
    "# It is defined by the kaggle/python Docker image: https://github.com/kaggle/docker-python\n",
    "# For example, here's several helpful packages to load\n",
    "\n",
    "import numpy as np # linear algebra\n",
    "import pandas as pd # data processing, CSV file I/O (e.g. pd.read_csv)\n",
    "\n",
    "# Input data files are available in the read-only \"../input/\" directory\n",
    "# For example, running this (by clicking run or pressing Shift+Enter) will list all files under the input directory\n",
    "\n",
    "import os\n",
    "for dirname, _, filenames in os.walk('/kaggle/input'):\n",
    "    for filename in filenames:\n",
    "        print(os.path.join(dirname, filename))\n",
    "\n",
    "# You can write up to 20GB to the current directory (/kaggle/working/) that gets preserved as output when you create a version using \"Save & Run All\" \n",
    "# You can also write temporary files to /kaggle/temp/, but they won't be saved outside of the current session\n",
    "print(\"complete\")"
   ]
  },
  {
   "cell_type": "code",
   "execution_count": 2,
   "id": "4c727bbd",
   "metadata": {
    "execution": {
     "iopub.execute_input": "2022-08-28T08:50:01.174681Z",
     "iopub.status.busy": "2022-08-28T08:50:01.173663Z",
     "iopub.status.idle": "2022-08-28T08:50:01.179361Z",
     "shell.execute_reply": "2022-08-28T08:50:01.177999Z"
    },
    "papermill": {
     "duration": 0.015443,
     "end_time": "2022-08-28T08:50:01.182187",
     "exception": false,
     "start_time": "2022-08-28T08:50:01.166744",
     "status": "completed"
    },
    "tags": []
   },
   "outputs": [
    {
     "name": "stdout",
     "output_type": "stream",
     "text": [
      "complete\n"
     ]
    }
   ],
   "source": [
    "print(\"complete\")"
   ]
  },
  {
   "cell_type": "code",
   "execution_count": 3,
   "id": "6da0bd9d",
   "metadata": {
    "execution": {
     "iopub.execute_input": "2022-08-28T08:50:01.195417Z",
     "iopub.status.busy": "2022-08-28T08:50:01.194395Z",
     "iopub.status.idle": "2022-08-28T08:50:14.834853Z",
     "shell.execute_reply": "2022-08-28T08:50:14.833198Z"
    },
    "papermill": {
     "duration": 13.650625,
     "end_time": "2022-08-28T08:50:14.838557",
     "exception": false,
     "start_time": "2022-08-28T08:50:01.187932",
     "status": "completed"
    },
    "tags": []
   },
   "outputs": [
    {
     "name": "stdout",
     "output_type": "stream",
     "text": [
      "Collecting pdfplumber\r\n",
      "  Downloading pdfplumber-0.7.4-py3-none-any.whl (40 kB)\r\n",
      "\u001b[2K     \u001b[90m━━━━━━━━━━━━━━━━━━━━━━━━━━━━━━━━━━━━━━━━\u001b[0m \u001b[32m40.0/40.0 kB\u001b[0m \u001b[31m2.1 MB/s\u001b[0m eta \u001b[36m0:00:00\u001b[0m\r\n",
      "\u001b[?25hCollecting pdfminer.six==20220524\r\n",
      "  Downloading pdfminer.six-20220524-py3-none-any.whl (5.6 MB)\r\n",
      "\u001b[2K     \u001b[90m━━━━━━━━━━━━━━━━━━━━━━━━━━━━━━━━━━━━━━━━\u001b[0m \u001b[32m5.6/5.6 MB\u001b[0m \u001b[31m33.2 MB/s\u001b[0m eta \u001b[36m0:00:00\u001b[0m\r\n",
      "\u001b[?25hRequirement already satisfied: Pillow>=9.1 in /opt/conda/lib/python3.7/site-packages (from pdfplumber) (9.1.1)\r\n",
      "Requirement already satisfied: Wand>=0.6.7 in /opt/conda/lib/python3.7/site-packages (from pdfplumber) (0.6.8)\r\n",
      "Requirement already satisfied: cryptography>=36.0.0 in /opt/conda/lib/python3.7/site-packages (from pdfminer.six==20220524->pdfplumber) (37.0.2)\r\n",
      "Requirement already satisfied: charset-normalizer>=2.0.0 in /opt/conda/lib/python3.7/site-packages (from pdfminer.six==20220524->pdfplumber) (2.1.0)\r\n",
      "Requirement already satisfied: cffi>=1.12 in /opt/conda/lib/python3.7/site-packages (from cryptography>=36.0.0->pdfminer.six==20220524->pdfplumber) (1.15.0)\r\n",
      "Requirement already satisfied: pycparser in /opt/conda/lib/python3.7/site-packages (from cffi>=1.12->cryptography>=36.0.0->pdfminer.six==20220524->pdfplumber) (2.21)\r\n",
      "Installing collected packages: pdfminer.six, pdfplumber\r\n",
      "Successfully installed pdfminer.six-20220524 pdfplumber-0.7.4\r\n",
      "\u001b[33mWARNING: Running pip as the 'root' user can result in broken permissions and conflicting behaviour with the system package manager. It is recommended to use a virtual environment instead: https://pip.pypa.io/warnings/venv\u001b[0m\u001b[33m\r\n",
      "\u001b[0mcomplete\n"
     ]
    }
   ],
   "source": [
    "#all pip install\n",
    "!pip install pdfplumber\n",
    "print(\"complete\")"
   ]
  },
  {
   "cell_type": "code",
   "execution_count": 4,
   "id": "d1df6172",
   "metadata": {
    "execution": {
     "iopub.execute_input": "2022-08-28T08:50:14.853663Z",
     "iopub.status.busy": "2022-08-28T08:50:14.853228Z",
     "iopub.status.idle": "2022-08-28T08:50:26.215830Z",
     "shell.execute_reply": "2022-08-28T08:50:26.214401Z"
    },
    "papermill": {
     "duration": 11.373283,
     "end_time": "2022-08-28T08:50:26.218602",
     "exception": false,
     "start_time": "2022-08-28T08:50:14.845319",
     "status": "completed"
    },
    "tags": []
   },
   "outputs": [
    {
     "name": "stdout",
     "output_type": "stream",
     "text": [
      "complete\n"
     ]
    }
   ],
   "source": [
    "#all import\n",
    "import pdfplumber\n",
    "import pandas as pd\n",
    "import os\n",
    "import spacy\n",
    "from spacy.matcher import Matcher\n",
    "print(\"complete\")"
   ]
  },
  {
   "cell_type": "code",
   "execution_count": 5,
   "id": "8f0910ff",
   "metadata": {
    "execution": {
     "iopub.execute_input": "2022-08-28T08:50:26.234685Z",
     "iopub.status.busy": "2022-08-28T08:50:26.234007Z",
     "iopub.status.idle": "2022-08-28T08:50:27.108672Z",
     "shell.execute_reply": "2022-08-28T08:50:27.107422Z"
    },
    "papermill": {
     "duration": 0.886091,
     "end_time": "2022-08-28T08:50:27.111381",
     "exception": false,
     "start_time": "2022-08-28T08:50:26.225290",
     "status": "completed"
    },
    "tags": []
   },
   "outputs": [
    {
     "name": "stdout",
     "output_type": "stream",
     "text": [
      "complete\n"
     ]
    }
   ],
   "source": [
    "#Name\n",
    "#import spacy\n",
    "#from spacy.matcher import Matcher\n",
    "\n",
    "# load pre-trained model\n",
    "nlp = spacy.load('en_core_web_sm')\n",
    "\n",
    "# initialize matcher with a vocab\n",
    "matcher = Matcher(nlp.vocab)\n",
    "def extract_name(resume_text):\n",
    "    nlp_text = nlp(resume_text)\n",
    "    \n",
    "    # First name and Last name are always Proper Nouns\n",
    "    pattern = [{'POS': 'PROPN'}, {'POS': 'PROPN'}]\n",
    "    \n",
    "    matcher.add('NAME', [pattern], on_match = None)\n",
    "    \n",
    "    matches = matcher(nlp_text)\n",
    "    #res=[]\n",
    "    for match_id, start, end in matches:\n",
    "        span = nlp_text[start:end]\n",
    "        temp=span.text\n",
    "        if (\"vitae\" in temp.lower() or \"sciences\" in temp.lower() \n",
    "            or \"engineering\" in temp.lower() or \"biographical\" in temp.lower() ):\n",
    "            continue\n",
    "        return temp\n",
    "        #res.append(span.text)\n",
    "    #return res\n",
    "    \n",
    "    \n",
    "\n",
    "print(\"complete\")"
   ]
  },
  {
   "cell_type": "code",
   "execution_count": null,
   "id": "82d33bd3",
   "metadata": {
    "papermill": {
     "duration": 0.006012,
     "end_time": "2022-08-28T08:50:27.124057",
     "exception": false,
     "start_time": "2022-08-28T08:50:27.118045",
     "status": "completed"
    },
    "tags": []
   },
   "outputs": [],
   "source": [
    "\n"
   ]
  },
  {
   "cell_type": "code",
   "execution_count": 6,
   "id": "cda36d4b",
   "metadata": {
    "execution": {
     "iopub.execute_input": "2022-08-28T08:50:27.139009Z",
     "iopub.status.busy": "2022-08-28T08:50:27.137930Z",
     "iopub.status.idle": "2022-08-28T08:51:36.163045Z",
     "shell.execute_reply": "2022-08-28T08:51:36.161792Z"
    },
    "papermill": {
     "duration": 69.03519,
     "end_time": "2022-08-28T08:51:36.165599",
     "exception": false,
     "start_time": "2022-08-28T08:50:27.130409",
     "status": "completed"
    },
    "tags": []
   },
   "outputs": [
    {
     "name": "stdout",
     "output_type": "stream",
     "text": [
      "CV_brief.pdf\n",
      "drmperfect_cv-april-2020.pdf\n",
      "vita_external.pdf\n",
      "Klar CV.pdf\n",
      "blee_cv_2016.pdf\n",
      "Canales_Robert_CV.pdf\n",
      "MOORE-MONROY2015_0.pdf\n",
      "CURRICULUM-VITAE_DHG_012519.pdf\n",
      "RobertsonCV0818-2.pdf\n",
      "hameroff2016cv_0.pdf\n",
      "Alison-M-Meadow-cv.pdf\n",
      "agaspar_cv.pdf\n",
      "JO - 2171.pdf\n",
      "Hoit CV (4-11-16).pdf\n",
      "Liverman Selected CV May 2018.pdf\n",
      "LBarraza CV 2020.pdf\n",
      "complete\n"
     ]
    }
   ],
   "source": [
    "#import pdfplumber\n",
    "#import pandas as pd\n",
    "#import os\n",
    "\n",
    "def extract_pdf(pdf_path):\n",
    "    linesOfFile = []\n",
    "    with pdfplumber.open(pdf_path) as pdf:\n",
    "        for pdf_page in pdf.pages:\n",
    "            single_page_text = pdf_page.extract_text()\n",
    "            for line in single_page_text.split('\\n'):\n",
    "                linesOfFile.append(line)\n",
    "                #print(linesOfFile)\n",
    "    return linesOfFile\n",
    "\n",
    "\n",
    "folder_with_pdfs = '../input/cvalltogether'\n",
    "linesOfFiles = []\n",
    "\n",
    "#test for only one file\n",
    "#test=0\n",
    "\n",
    "listOfPdfFiles=[]\n",
    "\n",
    "for pdf_file in os.listdir(folder_with_pdfs):\n",
    "    if pdf_file.endswith('.pdf'):\n",
    "        print(pdf_file)\n",
    "        listOfPdfFiles.append(pdf_file)\n",
    "        pdf_file_path = os.path.join(folder_with_pdfs, pdf_file)\n",
    "        linesOfFile = extract_pdf(pdf_file_path)\n",
    "        linesOfFiles.append(linesOfFile)\n",
    "        \n",
    "        \n",
    "        #test\n",
    "        \n",
    "        #dfPartByPart(linesOfFile)\n",
    "        #break\n",
    "        #print(linesOfFile)\n",
    "        #df1 = pd.DataFrame(linesOfFiles)\n",
    "        #test name\n",
    "        \n",
    "        \n",
    "        #testName=\",\".join(linesOfFile)\n",
    "        #name = extract_name(testName)\n",
    "        #print(name)\n",
    "        #if test==0:\n",
    "            \n",
    "            #break\n",
    "        #test+=1\n",
    "        \n",
    "df = pd.DataFrame(linesOfFiles)\n",
    "df.to_csv('test.csv')\n",
    "print(\"complete\")"
   ]
  },
  {
   "cell_type": "code",
   "execution_count": 7,
   "id": "82560e59",
   "metadata": {
    "execution": {
     "iopub.execute_input": "2022-08-28T08:51:36.182232Z",
     "iopub.status.busy": "2022-08-28T08:51:36.181846Z",
     "iopub.status.idle": "2022-08-28T08:51:36.188143Z",
     "shell.execute_reply": "2022-08-28T08:51:36.186858Z"
    },
    "papermill": {
     "duration": 0.018131,
     "end_time": "2022-08-28T08:51:36.191181",
     "exception": false,
     "start_time": "2022-08-28T08:51:36.173050",
     "status": "completed"
    },
    "tags": []
   },
   "outputs": [
    {
     "name": "stdout",
     "output_type": "stream",
     "text": [
      "complete\n"
     ]
    }
   ],
   "source": [
    "# to do : do partial match , i.e. word+etc\n",
    "\n",
    "reference=[\"contacts\",\"educations\",\"honors\",\"awards\",\"Meetings\",\"publications\",\n",
    "           \"researches\",\"appointments\",\"proposals\",\"services\",\"observing\", \n",
    "           \"experiences\",\"grants\",\"current\",\"teaching\",\"outreaches\",\n",
    "           \"students\",\"conferences\",\"citations\"]\n",
    "\n",
    "\n",
    "print(\"complete\")"
   ]
  },
  {
   "cell_type": "code",
   "execution_count": 8,
   "id": "f9484ad8",
   "metadata": {
    "execution": {
     "iopub.execute_input": "2022-08-28T08:51:36.209018Z",
     "iopub.status.busy": "2022-08-28T08:51:36.208555Z",
     "iopub.status.idle": "2022-08-28T08:51:36.218546Z",
     "shell.execute_reply": "2022-08-28T08:51:36.217409Z"
    },
    "papermill": {
     "duration": 0.021476,
     "end_time": "2022-08-28T08:51:36.221057",
     "exception": false,
     "start_time": "2022-08-28T08:51:36.199581",
     "status": "completed"
    },
    "tags": []
   },
   "outputs": [
    {
     "name": "stdout",
     "output_type": "stream",
     "text": [
      "complete\n"
     ]
    }
   ],
   "source": [
    "def dfPartByPart(textList):\n",
    "    #print(sent)\n",
    "    collectedText=[]\n",
    "    collectedByDictionary=dict()\n",
    "    collectedParts=dict()\n",
    "    keyDictionary=\"introductions\"\n",
    "    temp=[]\n",
    "\n",
    "#print(len(textList))\n",
    "\n",
    "\n",
    "    for j in textList:\n",
    "        if j==None:\n",
    "            continue\n",
    "   \n",
    "        for k in j.split():\n",
    "        #if j=='Observing\\nExperience':\n",
    "        #    print(\"saaaa\")\n",
    "            if len(k)<2:\n",
    "                continue\n",
    "            result = list(filter(lambda x: x.startswith(k.lower()), reference))\n",
    "            if result:\n",
    "                #print(result,k)\n",
    "                collectedText.append(temp)\n",
    "                if keyDictionary in collectedByDictionary:\n",
    "                    collectedByDictionary[keyDictionary]=collectedByDictionary[keyDictionary]+temp\n",
    "                else:\n",
    "                    collectedByDictionary[keyDictionary]=temp\n",
    "                keyDictionary=result[0]\n",
    "                temp=[]\n",
    "                break\n",
    "        #print(k)\n",
    "        temp.append(j)\n",
    "    \n",
    "    #print(j)\n",
    "    collectedText.append(temp)\n",
    "    if keyDictionary in collectedByDictionary:\n",
    "        collectedByDictionary[keyDictionary]=collectedByDictionary[keyDictionary]+temp\n",
    "    else:\n",
    "        collectedByDictionary[keyDictionary]=temp\n",
    "\n",
    "    return collectedByDictionary\n",
    "print(\"complete\")"
   ]
  },
  {
   "cell_type": "code",
   "execution_count": 9,
   "id": "2b867bef",
   "metadata": {
    "execution": {
     "iopub.execute_input": "2022-08-28T08:51:36.237697Z",
     "iopub.status.busy": "2022-08-28T08:51:36.237281Z",
     "iopub.status.idle": "2022-08-28T08:51:36.243520Z",
     "shell.execute_reply": "2022-08-28T08:51:36.242288Z"
    },
    "papermill": {
     "duration": 0.017709,
     "end_time": "2022-08-28T08:51:36.246223",
     "exception": false,
     "start_time": "2022-08-28T08:51:36.228514",
     "status": "completed"
    },
    "tags": []
   },
   "outputs": [
    {
     "name": "stdout",
     "output_type": "stream",
     "text": [
      "['CURRICULUM VITAE ' 'of ' 'ROBERT A. CANALES ' ... None None None]\n",
      "CURRICULUM VITAE \n",
      "16\n"
     ]
    }
   ],
   "source": [
    "matrix_res = df.to_numpy()\n",
    "\n",
    "print(matrix_res[5])\n",
    "print(matrix_res[5][0])\n",
    "\n",
    "\n",
    "print(len(matrix_res))\n",
    "\n",
    "\n",
    "#print(matrix_res)"
   ]
  },
  {
   "cell_type": "code",
   "execution_count": 10,
   "id": "4d234648",
   "metadata": {
    "execution": {
     "iopub.execute_input": "2022-08-28T08:51:36.263612Z",
     "iopub.status.busy": "2022-08-28T08:51:36.263238Z",
     "iopub.status.idle": "2022-08-28T08:51:36.276054Z",
     "shell.execute_reply": "2022-08-28T08:51:36.274897Z"
    },
    "papermill": {
     "duration": 0.024507,
     "end_time": "2022-08-28T08:51:36.279179",
     "exception": false,
     "start_time": "2022-08-28T08:51:36.254672",
     "status": "completed"
    },
    "tags": []
   },
   "outputs": [
    {
     "name": "stdout",
     "output_type": "stream",
     "text": [
      "dict_keys(['introductions', 'contacts', 'researches', 'educations', 'appointments', 'grants', 'current', 'outreaches', 'students', 'awards', 'services', 'observing', 'experiences', 'publications', 'conferences'])\n"
     ]
    }
   ],
   "source": [
    "\n",
    "test001=dfPartByPart(matrix_res[11])\n",
    "print(test001.keys())"
   ]
  },
  {
   "cell_type": "code",
   "execution_count": 11,
   "id": "c0e221a9",
   "metadata": {
    "execution": {
     "iopub.execute_input": "2022-08-28T08:51:36.297038Z",
     "iopub.status.busy": "2022-08-28T08:51:36.296252Z",
     "iopub.status.idle": "2022-08-28T08:51:36.304437Z",
     "shell.execute_reply": "2022-08-28T08:51:36.303578Z"
    },
    "papermill": {
     "duration": 0.019174,
     "end_time": "2022-08-28T08:51:36.306591",
     "exception": false,
     "start_time": "2022-08-28T08:51:36.287417",
     "status": "completed"
    },
    "tags": []
   },
   "outputs": [
    {
     "data": {
      "text/plain": [
       "['Contact StewardObservatory Tel: (520)-360-0983',\n",
       " 'Information TheUniversityofArizona agaspar@as.arizona.edu',\n",
       " '933NCherryAvenue,Rm278 http://merope.as.arizona.edu/˜agaspar',\n",
       " 'Tucson,AZ85721-0065 U.S.permanentresident']"
      ]
     },
     "execution_count": 11,
     "metadata": {},
     "output_type": "execute_result"
    }
   ],
   "source": [
    "test001['introductions']\n",
    "test001['contacts']"
   ]
  },
  {
   "cell_type": "code",
   "execution_count": 12,
   "id": "de283af2",
   "metadata": {
    "execution": {
     "iopub.execute_input": "2022-08-28T08:51:36.323943Z",
     "iopub.status.busy": "2022-08-28T08:51:36.323553Z",
     "iopub.status.idle": "2022-08-28T08:51:36.376498Z",
     "shell.execute_reply": "2022-08-28T08:51:36.374848Z"
    },
    "papermill": {
     "duration": 0.064706,
     "end_time": "2022-08-28T08:51:36.379218",
     "exception": false,
     "start_time": "2022-08-28T08:51:36.314512",
     "status": "completed"
    },
    "tags": []
   },
   "outputs": [
    {
     "name": "stdout",
     "output_type": "stream",
     "text": [
      "dict_keys(['introductions', 'students', 'educations', 'appointments', 'researches', 'teaching', 'honors', 'awards', 'grants', 'outreaches', 'publications', 'proposals', 'current', 'experiences', 'services', 'conferences'])\n"
     ]
    }
   ],
   "source": [
    "test002=dfPartByPart(matrix_res[1])\n",
    "print(test002.keys())"
   ]
  },
  {
   "cell_type": "code",
   "execution_count": 13,
   "id": "88978bff",
   "metadata": {
    "execution": {
     "iopub.execute_input": "2022-08-28T08:51:36.396615Z",
     "iopub.status.busy": "2022-08-28T08:51:36.396240Z",
     "iopub.status.idle": "2022-08-28T08:51:36.403689Z",
     "shell.execute_reply": "2022-08-28T08:51:36.402648Z"
    },
    "papermill": {
     "duration": 0.018879,
     "end_time": "2022-08-28T08:51:36.405958",
     "exception": false,
     "start_time": "2022-08-28T08:51:36.387079",
     "status": "completed"
    },
    "tags": []
   },
   "outputs": [
    {
     "data": {
      "text/plain": [
       "['Grant ',\n",
       " 'Summer 2007  Competitive Fellowship to attend the 2-Week Summer Institute ',\n",
       " 'on the Design and Conduct of Randomized Clinical Trials ',\n",
       " 'Involving Behavioral Interventions sponsored by the National ',\n",
       " 'Institutes of Health Office of Behavioral and Social Sciences ',\n",
       " 'awarded Grant Program for School Psychology Internships) ',\n",
       " '2015 – present  Banner University Medical Center Hospital School Program and ',\n",
       " 'UA Group; 2016 – created partnership for Hospital School ',\n",
       " 'Program to establish the program ',\n",
       " ' ',\n",
       " 'Departmental Committees ',\n",
       " '2014; 2015  Search Committee Chair for UA School Psychology Clinical ',\n",
       " 'Assistant Professor of Practice ',\n",
       " '2014; 2015  Search Committee for UA School Psychology Associate/Full ',\n",
       " 'Professor and Program Director ',\n",
       " ' ',\n",
       " 'Spring 2012  School Psychology Program Search Committee Member for ',\n",
       " 'Assistant Professor ',\n",
       " '2012; 2013; 2014  Faculty Co-Sponsor for the School Based Mental Health ',\n",
       " 'Grants and Awards ',\n",
       " 'Sponsor(s): Father’s Day Council; Faculty Small Grants Program (University of Arizona) Role: ',\n",
       " 'Principal Investigator ',\n",
       " 'Amount Awarded: $20,000; $9,954 ',\n",
       " 'Funding period: July 2008 – July 2010; July 2008 – July 2009 ',\n",
       " ' ',\n",
       " 'A Pilot Study to Examine the Effects of a Hypnosis Intervention on Stress and Sleep in ',\n",
       " 'Diabetic Adolescents and Young Adults ']"
      ]
     },
     "execution_count": 13,
     "metadata": {},
     "output_type": "execute_result"
    }
   ],
   "source": [
    "test002['grants']"
   ]
  },
  {
   "cell_type": "code",
   "execution_count": 14,
   "id": "8d2399e1",
   "metadata": {
    "execution": {
     "iopub.execute_input": "2022-08-28T08:51:36.423475Z",
     "iopub.status.busy": "2022-08-28T08:51:36.423040Z",
     "iopub.status.idle": "2022-08-28T08:51:36.434983Z",
     "shell.execute_reply": "2022-08-28T08:51:36.433785Z"
    },
    "papermill": {
     "duration": 0.024051,
     "end_time": "2022-08-28T08:51:36.437860",
     "exception": false,
     "start_time": "2022-08-28T08:51:36.413809",
     "status": "completed"
    },
    "tags": []
   },
   "outputs": [
    {
     "name": "stdout",
     "output_type": "stream",
     "text": [
      "Brief Vitæ <class 'str'>\n"
     ]
    }
   ],
   "source": [
    "df.loc[0,:] # 0 row, all columns\n",
    "df.loc[0,1] # 0 row 1 column\n",
    "print(df.loc[0,1],type(df.loc[0,1])) # type str"
   ]
  },
  {
   "cell_type": "code",
   "execution_count": 15,
   "id": "9809a61e",
   "metadata": {
    "execution": {
     "iopub.execute_input": "2022-08-28T08:51:36.456737Z",
     "iopub.status.busy": "2022-08-28T08:51:36.456320Z",
     "iopub.status.idle": "2022-08-28T08:51:36.462779Z",
     "shell.execute_reply": "2022-08-28T08:51:36.461504Z"
    },
    "papermill": {
     "duration": 0.018858,
     "end_time": "2022-08-28T08:51:36.465859",
     "exception": false,
     "start_time": "2022-08-28T08:51:36.447001",
     "status": "completed"
    },
    "tags": []
   },
   "outputs": [
    {
     "name": "stdout",
     "output_type": "stream",
     "text": [
      "0 ['Sunder Sethuraman' ' ' 'Curriculum Vitae' ' '\n",
      " '                    Benjamin R. Lee, M.D. ' 'CURRICULUM VITAE ' ' '\n",
      " 'CURRICULUM VITAE Dawn H. Gouge Ph.D. B.Sc. ' 'CHRISTOPHER T. ROBERTSON '\n",
      " 'Biographical Sketch – Full List of Publications  Last Updated:  November 1, 2016 '\n",
      " 'CURRICULUM VITAE ' 'András Gáspár 12/10/2016' ' ' '      Hoit - 1 '\n",
      " 'DIANA M. LIVERMAN ' 'Leila Barraza ']\n"
     ]
    }
   ],
   "source": [
    "#iterate over columns in pandas DataFrame using enumerate()\n",
    "for (index, colname) in enumerate(df):\n",
    "    print(index, df[colname].values)\n",
    "    break"
   ]
  },
  {
   "cell_type": "code",
   "execution_count": 16,
   "id": "c80b53bc",
   "metadata": {
    "execution": {
     "iopub.execute_input": "2022-08-28T08:51:36.484967Z",
     "iopub.status.busy": "2022-08-28T08:51:36.484550Z",
     "iopub.status.idle": "2022-08-28T08:51:36.491040Z",
     "shell.execute_reply": "2022-08-28T08:51:36.489896Z"
    },
    "papermill": {
     "duration": 0.018939,
     "end_time": "2022-08-28T08:51:36.493742",
     "exception": false,
     "start_time": "2022-08-28T08:51:36.474803",
     "status": "completed"
    },
    "tags": []
   },
   "outputs": [
    {
     "name": "stdout",
     "output_type": "stream",
     "text": [
      "geeksforgeeks\n",
      "geeksforgeeks\n",
      "GEEKSFORGEEKS\n",
      "MY NAME IS AYUSH\n"
     ]
    }
   ],
   "source": [
    "string = 'GEEKSFORGEEKS'\n",
    "print(string.lower())\n",
    "  \n",
    "string = 'GeeksforGeeks'\n",
    "print(string.lower())\n",
    "\n",
    "string = 'geeksforgeeks'\n",
    "print(string.upper())\n",
    "  \n",
    "string = 'My name is ayush'\n",
    "print(string.upper())"
   ]
  },
  {
   "cell_type": "code",
   "execution_count": 17,
   "id": "b6f9e451",
   "metadata": {
    "execution": {
     "iopub.execute_input": "2022-08-28T08:51:36.511974Z",
     "iopub.status.busy": "2022-08-28T08:51:36.511527Z",
     "iopub.status.idle": "2022-08-28T08:51:36.517218Z",
     "shell.execute_reply": "2022-08-28T08:51:36.516030Z"
    },
    "papermill": {
     "duration": 0.017587,
     "end_time": "2022-08-28T08:51:36.519470",
     "exception": false,
     "start_time": "2022-08-28T08:51:36.501883",
     "status": "completed"
    },
    "tags": []
   },
   "outputs": [
    {
     "name": "stdout",
     "output_type": "stream",
     "text": [
      "Sunder Sethuraman\n"
     ]
    }
   ],
   "source": [
    "print(df[0][0])\n",
    "#print(df)\n",
    "#print(linesOfFiles)"
   ]
  },
  {
   "cell_type": "code",
   "execution_count": 18,
   "id": "14a8fce5",
   "metadata": {
    "execution": {
     "iopub.execute_input": "2022-08-28T08:51:36.537451Z",
     "iopub.status.busy": "2022-08-28T08:51:36.537054Z",
     "iopub.status.idle": "2022-08-28T08:51:36.543721Z",
     "shell.execute_reply": "2022-08-28T08:51:36.542564Z"
    },
    "papermill": {
     "duration": 0.018708,
     "end_time": "2022-08-28T08:51:36.546275",
     "exception": false,
     "start_time": "2022-08-28T08:51:36.527567",
     "status": "completed"
    },
    "tags": []
   },
   "outputs": [
    {
     "name": "stdout",
     "output_type": "stream",
     "text": [
      "['threes']\n",
      "['threes']\n"
     ]
    }
   ],
   "source": [
    "l = ['ones', 'twos', 'threes']\n",
    "wanted = 'three'\n",
    "\n",
    "# using startswith\n",
    "result = [v for v in l if v.startswith(wanted)]\n",
    "print(result)\n",
    "# using in\n",
    "result1 = [v for v in l if wanted in v]\n",
    "print(result1)"
   ]
  }
 ],
 "metadata": {
  "kernelspec": {
   "display_name": "Python 3",
   "language": "python",
   "name": "python3"
  },
  "language_info": {
   "codemirror_mode": {
    "name": "ipython",
    "version": 3
   },
   "file_extension": ".py",
   "mimetype": "text/x-python",
   "name": "python",
   "nbconvert_exporter": "python",
   "pygments_lexer": "ipython3",
   "version": "3.7.12"
  },
  "papermill": {
   "default_parameters": {},
   "duration": 107.221663,
   "end_time": "2022-08-28T08:51:39.316395",
   "environment_variables": {},
   "exception": null,
   "input_path": "__notebook__.ipynb",
   "output_path": "__notebook__.ipynb",
   "parameters": {},
   "start_time": "2022-08-28T08:49:52.094732",
   "version": "2.3.4"
  }
 },
 "nbformat": 4,
 "nbformat_minor": 5
}
