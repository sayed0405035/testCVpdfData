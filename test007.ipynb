{
 "cells": [
  {
   "cell_type": "code",
   "execution_count": 1,
   "id": "194ab0a3",
   "metadata": {
    "_cell_guid": "b1076dfc-b9ad-4769-8c92-a6c4dae69d19",
    "_uuid": "8f2839f25d086af736a60e9eeb907d3b93b6e0e5",
    "execution": {
     "iopub.execute_input": "2022-09-11T20:15:51.524556Z",
     "iopub.status.busy": "2022-09-11T20:15:51.523998Z",
     "iopub.status.idle": "2022-09-11T20:15:51.549505Z",
     "shell.execute_reply": "2022-09-11T20:15:51.548444Z"
    },
    "papermill": {
     "duration": 0.036834,
     "end_time": "2022-09-11T20:15:51.553136",
     "exception": false,
     "start_time": "2022-09-11T20:15:51.516302",
     "status": "completed"
    },
    "tags": []
   },
   "outputs": [
    {
     "name": "stdout",
     "output_type": "stream",
     "text": [
      "/kaggle/input/cvconfig/resume_config1.xml\n",
      "/kaggle/input/cvalltogether/CV_brief.pdf\n",
      "/kaggle/input/cvalltogether/drmperfect_cv-april-2020.pdf\n",
      "/kaggle/input/cvalltogether/vita_external.pdf\n",
      "/kaggle/input/cvalltogether/Klar CV.pdf\n",
      "/kaggle/input/cvalltogether/blee_cv_2016.pdf\n",
      "/kaggle/input/cvalltogether/Canales_Robert_CV.pdf\n",
      "/kaggle/input/cvalltogether/MOORE-MONROY2015_0.pdf\n",
      "/kaggle/input/cvalltogether/CURRICULUM-VITAE_DHG_012519.pdf\n",
      "/kaggle/input/cvalltogether/RobertsonCV0818-2.pdf\n",
      "/kaggle/input/cvalltogether/hameroff2016cv_0.pdf\n",
      "/kaggle/input/cvalltogether/Alison-M-Meadow-cv.pdf\n",
      "/kaggle/input/cvalltogether/agaspar_cv.pdf\n",
      "/kaggle/input/cvalltogether/JO - 2171.pdf\n",
      "/kaggle/input/cvalltogether/Hoit CV (4-11-16).pdf\n",
      "/kaggle/input/cvalltogether/Liverman Selected CV May 2018.pdf\n",
      "/kaggle/input/cvalltogether/LBarraza CV 2020.pdf\n",
      "complete\n"
     ]
    }
   ],
   "source": [
    "# This Python 3 environment comes with many helpful analytics libraries installed\n",
    "# It is defined by the kaggle/python Docker image: https://github.com/kaggle/docker-python\n",
    "# For example, here's several helpful packages to load\n",
    "\n",
    "import numpy as np # linear algebra\n",
    "import pandas as pd # data processing, CSV file I/O (e.g. pd.read_csv)\n",
    "\n",
    "# Input data files are available in the read-only \"../input/\" directory\n",
    "# For example, running this (by clicking run or pressing Shift+Enter) will list all files under the input directory\n",
    "\n",
    "import os\n",
    "for dirname, _, filenames in os.walk('/kaggle/input'):\n",
    "    for filename in filenames:\n",
    "        print(os.path.join(dirname, filename))\n",
    "\n",
    "# You can write up to 20GB to the current directory (/kaggle/working/) that gets preserved as output when you create a version using \"Save & Run All\" \n",
    "# You can also write temporary files to /kaggle/temp/, but they won't be saved outside of the current session\n",
    "print(\"complete\")"
   ]
  },
  {
   "cell_type": "code",
   "execution_count": 2,
   "id": "99c9f7fd",
   "metadata": {
    "execution": {
     "iopub.execute_input": "2022-09-11T20:15:51.564820Z",
     "iopub.status.busy": "2022-09-11T20:15:51.563897Z",
     "iopub.status.idle": "2022-09-11T20:15:51.571136Z",
     "shell.execute_reply": "2022-09-11T20:15:51.569868Z"
    },
    "papermill": {
     "duration": 0.01629,
     "end_time": "2022-09-11T20:15:51.574225",
     "exception": false,
     "start_time": "2022-09-11T20:15:51.557935",
     "status": "completed"
    },
    "tags": []
   },
   "outputs": [
    {
     "name": "stdout",
     "output_type": "stream",
     "text": [
      "complete\n"
     ]
    }
   ],
   "source": [
    "import os, sys\n",
    "import xml.etree.cElementTree as ET\n",
    "import re\n",
    "from collections import OrderedDict\n",
    "import json\n",
    "\n",
    "print(\"complete\")"
   ]
  },
  {
   "cell_type": "code",
   "execution_count": 3,
   "id": "e0bf695b",
   "metadata": {
    "execution": {
     "iopub.execute_input": "2022-09-11T20:15:51.585505Z",
     "iopub.status.busy": "2022-09-11T20:15:51.585084Z",
     "iopub.status.idle": "2022-09-11T20:16:16.558085Z",
     "shell.execute_reply": "2022-09-11T20:16:16.556416Z"
    },
    "papermill": {
     "duration": 24.981981,
     "end_time": "2022-09-11T20:16:16.561214",
     "exception": false,
     "start_time": "2022-09-11T20:15:51.579233",
     "status": "completed"
    },
    "tags": []
   },
   "outputs": [
    {
     "name": "stdout",
     "output_type": "stream",
     "text": [
      "Collecting PyPDF2\r\n",
      "  Downloading PyPDF2-2.10.6-py3-none-any.whl (217 kB)\r\n",
      "\u001b[2K     \u001b[90m━━━━━━━━━━━━━━━━━━━━━━━━━━━━━━━━━━━━━━━\u001b[0m \u001b[32m217.2/217.2 kB\u001b[0m \u001b[31m4.2 MB/s\u001b[0m eta \u001b[36m0:00:00\u001b[0m\r\n",
      "\u001b[?25hRequirement already satisfied: typing-extensions>=3.10.0.0 in /opt/conda/lib/python3.7/site-packages (from PyPDF2) (4.3.0)\r\n",
      "Installing collected packages: PyPDF2\r\n",
      "Successfully installed PyPDF2-2.10.6\r\n",
      "\u001b[33mWARNING: Running pip as the 'root' user can result in broken permissions and conflicting behaviour with the system package manager. It is recommended to use a virtual environment instead: https://pip.pypa.io/warnings/venv\u001b[0m\u001b[33m\r\n",
      "\u001b[0mCollecting pdfplumber\r\n",
      "  Downloading pdfplumber-0.7.4-py3-none-any.whl (40 kB)\r\n",
      "\u001b[2K     \u001b[90m━━━━━━━━━━━━━━━━━━━━━━━━━━━━━━━━━━━━━━━━\u001b[0m \u001b[32m40.0/40.0 kB\u001b[0m \u001b[31m2.2 MB/s\u001b[0m eta \u001b[36m0:00:00\u001b[0m\r\n",
      "\u001b[?25hRequirement already satisfied: Pillow>=9.1 in /opt/conda/lib/python3.7/site-packages (from pdfplumber) (9.1.1)\r\n",
      "Collecting pdfminer.six==20220524\r\n",
      "  Downloading pdfminer.six-20220524-py3-none-any.whl (5.6 MB)\r\n",
      "\u001b[2K     \u001b[90m━━━━━━━━━━━━━━━━━━━━━━━━━━━━━━━━━━━━━━━━\u001b[0m \u001b[32m5.6/5.6 MB\u001b[0m \u001b[31m32.6 MB/s\u001b[0m eta \u001b[36m0:00:00\u001b[0m\r\n",
      "\u001b[?25hRequirement already satisfied: Wand>=0.6.7 in /opt/conda/lib/python3.7/site-packages (from pdfplumber) (0.6.10)\r\n",
      "Requirement already satisfied: charset-normalizer>=2.0.0 in /opt/conda/lib/python3.7/site-packages (from pdfminer.six==20220524->pdfplumber) (2.1.0)\r\n",
      "Requirement already satisfied: cryptography>=36.0.0 in /opt/conda/lib/python3.7/site-packages (from pdfminer.six==20220524->pdfplumber) (37.0.2)\r\n",
      "Requirement already satisfied: cffi>=1.12 in /opt/conda/lib/python3.7/site-packages (from cryptography>=36.0.0->pdfminer.six==20220524->pdfplumber) (1.15.0)\r\n",
      "Requirement already satisfied: pycparser in /opt/conda/lib/python3.7/site-packages (from cffi>=1.12->cryptography>=36.0.0->pdfminer.six==20220524->pdfplumber) (2.21)\r\n",
      "Installing collected packages: pdfminer.six, pdfplumber\r\n",
      "Successfully installed pdfminer.six-20220524 pdfplumber-0.7.4\r\n",
      "\u001b[33mWARNING: Running pip as the 'root' user can result in broken permissions and conflicting behaviour with the system package manager. It is recommended to use a virtual environment instead: https://pip.pypa.io/warnings/venv\u001b[0m\u001b[33m\r\n",
      "\u001b[0mcomplete\n"
     ]
    }
   ],
   "source": [
    "!pip install PyPDF2\n",
    "!pip install pdfplumber\n",
    "print(\"complete\")"
   ]
  },
  {
   "cell_type": "code",
   "execution_count": 4,
   "id": "d64caca4",
   "metadata": {
    "execution": {
     "iopub.execute_input": "2022-09-11T20:16:16.575719Z",
     "iopub.status.busy": "2022-09-11T20:16:16.575221Z",
     "iopub.status.idle": "2022-09-11T20:16:16.582819Z",
     "shell.execute_reply": "2022-09-11T20:16:16.581327Z"
    },
    "papermill": {
     "duration": 0.017835,
     "end_time": "2022-09-11T20:16:16.585718",
     "exception": false,
     "start_time": "2022-09-11T20:16:16.567883",
     "status": "completed"
    },
    "tags": []
   },
   "outputs": [
    {
     "name": "stdout",
     "output_type": "stream",
     "text": [
      "complete\n"
     ]
    }
   ],
   "source": [
    "## Reader: ToDo: use another file reader.py to import various formats, convert to txt and clean docs, here, below\n",
    "def read_document(filepath):\n",
    "    f = open(filepath)\n",
    "    raw = f.read()\n",
    "    f.close()\n",
    "    return raw\n",
    "print(\"complete\")"
   ]
  },
  {
   "cell_type": "code",
   "execution_count": 5,
   "id": "e46e51b0",
   "metadata": {
    "execution": {
     "iopub.execute_input": "2022-09-11T20:16:16.599977Z",
     "iopub.status.busy": "2022-09-11T20:16:16.599594Z",
     "iopub.status.idle": "2022-09-11T20:16:16.608536Z",
     "shell.execute_reply": "2022-09-11T20:16:16.607446Z"
    },
    "papermill": {
     "duration": 0.019697,
     "end_time": "2022-09-11T20:16:16.611805",
     "exception": false,
     "start_time": "2022-09-11T20:16:16.592108",
     "status": "completed"
    },
    "tags": []
   },
   "outputs": [
    {
     "name": "stdout",
     "output_type": "stream",
     "text": [
      "complete\n"
     ]
    }
   ],
   "source": [
    "#read config and store in equivalent internal list-of-dictionaries structure. No processing-parsing.\n",
    "def read_config( configfile ):\n",
    "\n",
    "    tree = ET.parse(configfile)\n",
    "    root = tree.getroot()\n",
    "\n",
    "    config = []\n",
    "    for child in root:\n",
    "        term = OrderedDict()\n",
    "        term[\"Term\"] = child.get('name', \"\")\n",
    "        for level1 in child:\n",
    "            term[\"Method\"] = level1.get('name', \"\")\n",
    "            term[\"Section\"] = level1.get('section', \"\")\n",
    "            for level2 in level1:\n",
    "                term[level2.tag] = term.get(level2.tag, []) + [level2.text]\n",
    "\n",
    "        config.append(term)\n",
    "    jason_result = json.dumps(config, indent=4)\n",
    "    # print(\"Specifications:\\n {}\".format(jason_result))\n",
    "    return config\n",
    "print(\"complete\")"
   ]
  },
  {
   "cell_type": "code",
   "execution_count": 6,
   "id": "5c49f91a",
   "metadata": {
    "execution": {
     "iopub.execute_input": "2022-09-11T20:16:16.626124Z",
     "iopub.status.busy": "2022-09-11T20:16:16.625739Z",
     "iopub.status.idle": "2022-09-11T20:16:16.636337Z",
     "shell.execute_reply": "2022-09-11T20:16:16.635070Z"
    },
    "papermill": {
     "duration": 0.020586,
     "end_time": "2022-09-11T20:16:16.638917",
     "exception": false,
     "start_time": "2022-09-11T20:16:16.618331",
     "status": "completed"
    },
    "tags": []
   },
   "outputs": [
    {
     "name": "stdout",
     "output_type": "stream",
     "text": [
      "[OrderedDict([('Term', 'Sections'), ('Method', 'section_extractor'), ('Section', ''), ('SummarySection', ['Summary, Objective, Goal, Aim']), ('SkillSection', ['Skill, Skills']), ('EmploymentSection', ['Employment, History, Work, Experience']), ('EducationSection', ['Education']), ('HonorsSection', ['Honors, Rewards, Accomplishments'])]), OrderedDict([('Term', 'Metadata'), ('Method', 'univalue_extractor'), ('Section', ''), ('Name', ['(^(Name:\\\\s*)?(.+))']), ('Email', ['((\\\\w+[.|\\\\w])*@(\\\\w+[.])*\\\\w+)', '([A-Z0-9._%+-]+@[A-Z0-9.-]+\\\\.[A-Z]{2,4})', \"(([a-z0-9!#$%'*+\\\\/=?^_`{|.}~-]+@(?:[a-z0-9](?:[a-z0-9-]*[a-z0-9])?\\\\.)+[a-z0-9](?:[a-z0-9-]*[a-z0-9])?))\"]), ('Phone', ['((\\\\+\\\\d+\\\\s*)?(\\\\(?\\\\d{3}\\\\)?\\\\D+\\\\d{3}\\\\D+\\\\d{4}))', '((?:\\\\(?\\\\+91\\\\)?)?\\\\d{9})', '(\\\\(?(\\\\+)?(\\\\d{1,3})?\\\\)?[\\\\s-]{0,1}?(\\\\d{\"+str(i)+\"})[\\\\s\\\\.-]{0,1}(\\\\d{\"+str(j)+\"})[\\\\s\\\\.-]{0,1}(\\\\d{\"+str(n-i-j)+\"}))']), ('Address', ['Address: (.+)'])]), OrderedDict([('Term', 'Education'), ('Method', 'section_value_extractor'), ('Section', 'EducationSection'), ('Secondary', ['10th,X,Matric,SSC']), ('HigherSecondary', ['12th,XII,HSC']), ('Diploma', ['CDAC, PGDBM']), ('Bachelors', ['BE,B.E.,BTech,B.Tech,BS,Mechanical,Instrumentation,Civil']), ('Masters', ['ME,MTech,M.E.,M.Tech,MS']), ('PhD', ['Doctorate,PhD,Ph.D.,Ph.D'])]), OrderedDict([('Term', 'Skills'), ('Method', 'section_value_extractor'), ('Section', 'SkillSection'), ('Certifications', ['Certified Scrum Master,ISTQB']), ('QA', ['Selenium,Selenium Grid,Cucumber,Jenkins,Robot,AutoIT,SilkTest,JMeter']), ('Programming', ['Python,Perl,Java'])])]\n",
      "complete\n"
     ]
    }
   ],
   "source": [
    "configfile = '../input/cvconfig/resume_config1.xml'\n",
    "config = read_config(configfile)\n",
    "print(config)\n",
    "print(\"complete\")"
   ]
  },
  {
   "cell_type": "code",
   "execution_count": 7,
   "id": "6966d8f6",
   "metadata": {
    "execution": {
     "iopub.execute_input": "2022-09-11T20:16:16.653330Z",
     "iopub.status.busy": "2022-09-11T20:16:16.652055Z",
     "iopub.status.idle": "2022-09-11T20:16:16.861447Z",
     "shell.execute_reply": "2022-09-11T20:16:16.860034Z"
    },
    "papermill": {
     "duration": 0.219707,
     "end_time": "2022-09-11T20:16:16.864580",
     "exception": false,
     "start_time": "2022-09-11T20:16:16.644873",
     "status": "completed"
    },
    "tags": []
   },
   "outputs": [
    {
     "name": "stdout",
     "output_type": "stream",
     "text": [
      "Sunder Sethuraman\n",
      "Brief Vit\u001a\n",
      "E-Mail: sethuram@math.arizona.edu\n",
      "WWW: http://www.math.arizona.edu/~ sethuram/\n",
      "Education\n",
      "1995 Ph.D. Courant Institute, New York University, New York, NY.\n",
      "1990 B.S. Stanford University, Stanford, CA.\n",
      "1986 Diploma Florida High School, Tallahassee, FL.\n",
      "Professional Experience\n",
      "2011 { Professor Department of Mathematics,\n",
      "University of Arizona.\n",
      "2008 { 2011 Professor Department of Mathematics,\n",
      "Iowa State University.\n",
      "2002 { 2008 Associate Professor Department of Mathematics,\n",
      "Iowa State University.\n",
      "2006 { 2007 Visiting Associate Professor Mathematical Sciences,\n",
      "University of Cincinnati.\n",
      "1998 { 2002 Assistant Professor Department of Mathematics,\n",
      "Iowa State University.\n",
      "1996 { 1998 Visiting Assistant Professor School of Mathematics,\n",
      "University of Minnesota.\n",
      "1995 { 1996 Post-Doctoral Fellow FIM, ETH-Zentrum\n",
      "Z urich, Switzerland.\n",
      "Research Areas of Interest\n",
      "Mostly probability, and connections to analysis, mathematical physics, and\n",
      "statistics.\n",
      "{Large scale scaling limits in complex systems.\n",
      "{Stochastic analysis of interacting particle models.\n",
      "{Random walks, random graphs and other random media.\n",
      "{Data clustering and stochastic optimization.\n",
      "Member: Statistics & Data Science, and Applied Math graduate interdisclip-\n",
      "inary programs at University of Arizona.Sunder Sethuraman Brief Vit\u001a 2\n",
      "Awards\n",
      "July 2008 Prix de l'Institut Henri Poincare for the best paper in Annales\n",
      "IHP Prob. Stat. in the year 2007.\n",
      "April 2009 Lambert Award, Dept of Mathematics, Iowa State University\n",
      "January 2018 Simons Foundation Sabbatical Fellowship\n",
      "May 2018 Fellowship of the Institute of Mathematical Statistics\n",
      "October 2018 Japan Society for the Promotion of Science Fellowship\n",
      "Current Grant\n",
      "Support for research from grant ARO W911NF-14-1-0179 (2018 - 2022) is\n",
      "gratefully appreciated.\n",
      "PhD Students\n",
      "\u000fZach Dietz. \\Large deviations for a class of non-homogeneous Markov\n",
      "chains,\" Defended December 2002. Next: NSF-VIGRE post-doc at Tulane\n",
      "University.\n",
      "\u000fDimitris Kontogiannis (joint with G. Lieberman). Defended July 2010.\n",
      "\\Homogenization of partial di\u000b",
      "erential equations in random media\"\n",
      "\u000fJihyeok Choi (joint with M. Axenovich), Defended April 2011. \\On\n",
      "time-dependent preferential attachment.\" Next: Church postdoc at Syracuse\n",
      "University.\n",
      "\u000fErik Davis, Defended May 2016, \\Consistency of modularity clustering\n",
      "in random geometric graphs.' Next: Postdoc at U. Arizona; Conversant,\n",
      "Chicago, IL; Hughes Research Laboratories, Pasadena, CA.\n",
      "\u000fDoron Shahar, Defended Spring 2018, \\Hydrodynamics for asymmetric\n",
      "long-range interacting particle systems.\" Basis, New York, NY.\n",
      "\u000fWilliam Lippitt, Defended Summer 2019, \\Stick-breaking processes,\n",
      "clumping, and occupation laws of Markov chains.\" Next: Postdoc at U.\n",
      "Arizona; Postdoc at U. Colorado, Denver, CO.\n",
      "\u000fDerick Bishop, `The solution of the d-string optimal stopping problem\n",
      "in certain Bernoulli sequences', Defended June, 2022.\n",
      "\u000fAlex Loomis, Current, `Convergence of MIW ground state and other\n",
      "sequences through Stein's method', Current.\n",
      "\u000fConner Hatton, Current.Sunder Sethuraman Brief Vit\u001a 3\n",
      "Other PhD students helped mentor\n",
      "\u000fSijia Liu (advisor T. Matzavinos), 2011. `Random walk distances in\n",
      "data clustering and applications.' Next: Capital One.\n",
      "\u000fAlex Young (advisor J. Lega), 2017. `On collision times of self-sorting\n",
      "interacting particles in one-dimension with random initial positions and ve-\n",
      "locities.' Next: Postdoc at Duke U.\n",
      "\u000fBrady Gales (advisor Kwang Sung Jun), `Norm agnostic linear bandits.'\n",
      "Current.\n",
      "Postdocs mentored\n",
      "\u000fJianfei Xue (2017-2020), `Hydrodynamic limit of Young diagrams', `Hy-\n",
      "drodynamics in Sinai-type random environments'. Next: U. Missouri post-\n",
      "doc.\n",
      "\u000fMichael Conroy (2021- 2023), Current.\n",
      "MS Students\n",
      "\u000fJohn Njue. (co-major with Paul Sacks), MS Exam October 2003.\n",
      "\u000fEric Blabac. \\Some results in the determination of the basis of a conver-\n",
      "gent nonhomogeneous Markov chain,\" MS Exam July 2005. Next: Employed\n",
      "at SAP software company.\n",
      "\u000fMaximilian Wimmer. \\A law of large numbers and central limit the-\n",
      "orem for the leaves in a random graph model\" MS Exam July 2006. Next:\n",
      "PhD student in Finance at University of Regensburg.\n",
      "\u000fMichael Phyzicky. \\The structure of the limit tree in random graphs\n",
      "with super-linear preferential attachment\" Oral Exam January 2014. Next:\n",
      "Employed by Chase Bank, Dallas, TX.\n",
      "\u000fConner Hatton. `From range of random walk to voter models.' De-\n",
      "fended June, 2022.\n",
      "\u000fOwen MacDonald. `Preferential attachment adjacent weights.' De-\n",
      "fended May, 2022.\n",
      "Undergraduate and Highschool Students\n",
      "\u000fJayadev S. Athreya. Senior undergraduate thesis, May 2000, \\On the\n",
      "asymptotic limits of discrete maximal order statistics.\" Next: Graduate\n",
      "student, Mathematics, University of Chicago.Sunder Sethuraman Brief Vit\u001a 4\n",
      "\u000fThomas Doehrman. Senior undergraduate thesis, May 2017, \\The range\n",
      "of random walks up to the time of exit from a domain.\" Next: Graduate\n",
      "student, Mathematics, University of Arizona.\n",
      "\u000fLexi Garrabrant, Tristin Solarzano. Undergraduate research poster\n",
      "presented at UBRP conference, Jan 2020, \\Records: Assessing change in\n",
      "temperature and other data\".\n",
      "\u000fRan an online summer 2020 program `Math of Neural Networks' with\n",
      "7 Tucson area highschool junior students, June 10-July 20, 2020. Funding:\n",
      "HSAP Army Research O\u000ece.\n",
      "\u000fRan an online summer 2021 program `Math Models of Opinions and Epi-\n",
      "demics' (with Shankar Venkataramani) with 5 Tucson highschool students,\n",
      "June 9 - July 19, 2021. Funding: HSAP Army Research O\u000ece.\n",
      "Editorial Work\n",
      "Associate Editor of Rocky Mountain Mathematics Journal, 6/15 - 1/21\n",
      "Associate Editor of Electronic Journal of Probability, Electronic Commu-\n",
      "nications in Probability, 1/09 - 12/14\n",
      "Associate Editor of Statistics and Probability Letters, 11/02 - 6/2011\n",
      "Recent Conference Organization\n",
      "Frontier Probability Days 2018. May 29-31, 2018, Corvallis, OR (with T.\n",
      "Alberts, D. Khoshnevisan, Y. Kovchegov, F. Rassoul-Agha).\n",
      "Session `Scaling limits and interacting particle systems' at SPA June 11-\n",
      "15, 2018, Gothenberg, Sweden\n",
      "Frontier Probability Days 2020. Dec. 3-5, 2021, Las Vegas, NE (with T.\n",
      "Alberts, L. Chen, Y. Kovchegov, F. Rassoul-Agha).\n",
      "(upcoming) Session `Stochastic analysis and large scale interacting sys-\n",
      "tems' at AIMS June 5-9, 2020, Atlanta, GA (with D. Hilhorst, B. Xie).\n",
      "Recent lectures in Conferences\n",
      "Fractional KPZ stochastic Burgers equations arising from microscopic\n",
      "dynamics. AMS Sectional conference, MSU, East Lansing, March 13, 2015.\n",
      "On deriving stochastic Burgers equations from a class of particle systems.\n",
      "SIAM conference on PDE, Scottsdale Dec 7 - 10, 2015.\n",
      "Deriving a long-range stochastic Burgers equation. Conference in honor\n",
      "of Prof SRS Varadhan, TU Berlin, August 15-19, 2016\n",
      "On KPZ-Burgers equation and stochastic particle systems. Asia Paci\f",
      "c\n",
      "Rim IMS conference, CUHK, Hong Kong, June 27-30, 2016Sunder Sethuraman Brief Vit\u001a 5\n",
      "Consistency of modularity clustering and the Kelvin tiling problem. Dis-\n",
      "crete Geometry and Statistics, Chulalongkorn Univ., Bangkok, Jan 31- Feb\n",
      "4, 2017.\n",
      "Modularity clustering, random geometric graphs and Kelvin's tiling prob-\n",
      "lem. Iowa State University, April 21, 2017\n",
      "uctuation \f",
      "eld scaling limits. SALSIS, Tokyo Univer-\n",
      "sity, Nov 6-9, 2017.\n",
      "On the growth of nonlinear preferential attachment trees. Random Trees:\n",
      "Structure, Self-similarity, and Dynamics, CIMAT, April 2018.\n",
      "On microscopic derivation of a multi-colored KPZ-Burgers SPDE. SPA,\n",
      "Gothenberg, June 2018.\n",
      "Approximating geodesics via random points. Nov 5- Nov 8, 2018, Kyoto-\n",
      "RIMS, Kyoto, Japan.\n",
      "On hydrodynamics of Young diagrams. ICTS Program, Universality in\n",
      "random strucures, Bangalore, India, Jan. 28 - Feb. 5, 2019\n",
      "ow. Seminar in Stochas-\n",
      "tic Processes, Salt Lake City, UT, Mar 13-16, 2019\n",
      "ow. Dynamics, random\n",
      "media, and universality in complex phenomena, Munster, Aug 26-30, 2019.\n",
      "Stickbreaking, clumping, and Markov chain occupation laws. AMS West-\n",
      "ern Sectional meeting, MM Rao Session, Riverside, CA, Nov 9, 2019\n",
      "ow. Particle Systems\n",
      "and Partial Di\u000b",
      "erential Equations VIII, Lisbon, Dec 2-6, 2019.\n",
      "ow. Hydrodynamic limits\n",
      "and related topics{one day symposium. Waseda University, Tokyo, Japan,\n",
      "Dec. 20, 2019.\n",
      "Approximating geodesics via random points. JMM Spatial Stochastic\n",
      "Models. Denver, Co., Jan 16, 2020.\n",
      "SPDE hydrodynamic limit in Sinai-type random environments, Bernoulli-\n",
      "IMS One-World Symposium, August 24-31, 2020\n",
      "ow. 10th International\n",
      "Conference on Stochastic Analysis and its Applications (ICSAA), Kyoto Uni-\n",
      "versity, Japan, Sep 6-10, 2021\n",
      "On atypical motions of a tagged particle in asymmetric simple exclusion.\n",
      "Probability Conference (in honor of Raghu Varadhan), Seoul National Uni-\n",
      "versity, South Korea, Jun 13-17, 2022.\n",
      "On atypical motions of a tagged particle in asymmetric simple exclusion.\n",
      "Probability Conference (in honor of Herbert Spohn), Muenster, Germany,\n",
      "Jun 20-25, 2022.\n",
      "(upcoming) High Dimensional Probability, ICTS, Bangalore, India, Jan\n",
      "2 - 23, 2023.Sunder Sethuraman Brief Vit\u001a 6\n",
      "(upcoming) AIMS Conference on Dynamical Systems and Di\u000b",
      "erential\n",
      "Equations, Atlanta, Ga, postponed, to be rescheduled in Summer 2023.\n",
      "(upcoming) Workshop on Random Growth Models in honor of Timo\n",
      "Sepp al ainen, BIRS, Canada, May 28-June 3, 2023.\n",
      "(upcoming) International Conference on Probability Theory and its Ap-\n",
      "plications (Honoring Krishna Athreya and Raghu Varadhan on their 80th\n",
      "birthdays), Kottayam, India, postponed, to be rescheduled.\n",
      "complete\n"
     ]
    }
   ],
   "source": [
    "import PyPDF2\n",
    "folder_with_pdfs = '../input/cvalltogether'\n",
    "linesOfFiles = []\n",
    "\n",
    "\n",
    "\n",
    "listOfPdfFiles=[]\n",
    "document=\"\"\n",
    "for pdf_file in os.listdir(folder_with_pdfs):\n",
    "    if pdf_file.endswith('.pdf'):\n",
    "        \n",
    "        #print(pdf_file)\n",
    "        listOfPdfFiles.append(pdf_file)\n",
    "        pdf_file_path = os.path.join(folder_with_pdfs, pdf_file)\n",
    "        \n",
    "        pdfFileObj = open(pdf_file_path,'rb')\n",
    "        \n",
    "        #print(pdfFileObj)\n",
    "        \n",
    "        pdfReader = PyPDF2.PdfFileReader(pdfFileObj)\n",
    "\n",
    "# Getting number of pages in pdf file\n",
    "        pages = pdfReader.numPages\n",
    "\n",
    "        totalText=[]\n",
    "        \n",
    "\n",
    "# Loop for reading all the Pages\n",
    "        for i in range(pages):\n",
    "\n",
    "        # Creating a page object\n",
    "            pageObj = pdfReader.getPage(i)\n",
    "\n",
    "        # Printing Page Number\n",
    "        #print(\"Page No: \",i)\n",
    "\n",
    "        # Extracting text from page\n",
    "        # And splitting it into chunks of lines\n",
    "            text = pageObj.extractText().split(\"\\n\")\n",
    "            document+=pageObj.extractText()\n",
    "            totalText+=text\n",
    "        break\n",
    "        \n",
    "# closing the pdf file object\n",
    "        pdfFileObj.close()\n",
    "\n",
    "print(document)\n",
    "    \n",
    "print(\"complete\")"
   ]
  },
  {
   "cell_type": "code",
   "execution_count": 8,
   "id": "24d2e4b0",
   "metadata": {
    "execution": {
     "iopub.execute_input": "2022-09-11T20:16:16.878798Z",
     "iopub.status.busy": "2022-09-11T20:16:16.878349Z",
     "iopub.status.idle": "2022-09-11T20:16:16.888777Z",
     "shell.execute_reply": "2022-09-11T20:16:16.887639Z"
    },
    "papermill": {
     "duration": 0.020834,
     "end_time": "2022-09-11T20:16:16.891572",
     "exception": false,
     "start_time": "2022-09-11T20:16:16.870738",
     "status": "completed"
    },
    "tags": []
   },
   "outputs": [
    {
     "name": "stdout",
     "output_type": "stream",
     "text": [
      "complete\n"
     ]
    }
   ],
   "source": [
    "# Section Information value extractor\n",
    "def section_value_extractor( document, section, subterms_dict, parsed_items_dict ):\n",
    "    retval = OrderedDict()\n",
    "    single_section_lines = parsed_items_dict[\"Sections\"].get(section)\n",
    "    if single_section_lines==None:\n",
    "        return retval\n",
    "    for line in single_section_lines:\n",
    "        for node_tag, pattern_string in subterms_dict.items():\n",
    "            pattern_list = re.split(r\",|:\", pattern_string[0])\n",
    "            matches = [pattern for pattern in pattern_list if pattern in line]\n",
    "            if len(matches):\n",
    "                info_string = \", \".join(list(matches)) + \" \"\n",
    "                numeric_values = re.findall(r\"([\\d']{4})\\s?-?(\\d{2}[^\\w+])?\", line)\n",
    "                if len(numeric_values):\n",
    "                    value_list = list(numeric_values[0])\n",
    "                    info_string = info_string + \"-\".join([value for value in value_list if value != \"\"])\n",
    "                retval[node_tag] = info_string\n",
    "                break\n",
    "    return retval\n",
    "print(\"complete\")"
   ]
  },
  {
   "cell_type": "code",
   "execution_count": 9,
   "id": "7511941c",
   "metadata": {
    "execution": {
     "iopub.execute_input": "2022-09-11T20:16:16.906980Z",
     "iopub.status.busy": "2022-09-11T20:16:16.906379Z",
     "iopub.status.idle": "2022-09-11T20:16:16.915358Z",
     "shell.execute_reply": "2022-09-11T20:16:16.914363Z"
    },
    "papermill": {
     "duration": 0.019754,
     "end_time": "2022-09-11T20:16:16.918108",
     "exception": false,
     "start_time": "2022-09-11T20:16:16.898354",
     "status": "completed"
    },
    "tags": []
   },
   "outputs": [
    {
     "name": "stdout",
     "output_type": "stream",
     "text": [
      "complete\n"
     ]
    }
   ],
   "source": [
    "# Regex based single value extractor\n",
    "def univalue_extractor( document, section, subterms_dict, parsed_items_dict ):\n",
    "    retval = OrderedDict()\n",
    "    get_section_lines = parsed_items_dict[\"Sections\"].get(section)\n",
    "    section_doc = \"\\n\".join(get_section_lines)\n",
    "    if section_doc != \"NA\":\n",
    "        for node_tag, pattern_list in subterms_dict.items():\n",
    "            for pattern in pattern_list:\n",
    "                regex_pattern = re.compile(r\"{}\".format(pattern))\n",
    "                match = regex_pattern.search(section_doc)\n",
    "                if match != None and len(match.groups()) > 0 and match.group(1) != \"\":\n",
    "                    retval[node_tag] = match.group(1)\n",
    "                    break\n",
    "    return retval\n",
    "print(\"complete\")"
   ]
  },
  {
   "cell_type": "code",
   "execution_count": 10,
   "id": "c4f64b96",
   "metadata": {
    "execution": {
     "iopub.execute_input": "2022-09-11T20:16:16.934373Z",
     "iopub.status.busy": "2022-09-11T20:16:16.933929Z",
     "iopub.status.idle": "2022-09-11T20:16:16.941907Z",
     "shell.execute_reply": "2022-09-11T20:16:16.940833Z"
    },
    "papermill": {
     "duration": 0.018671,
     "end_time": "2022-09-11T20:16:16.944241",
     "exception": false,
     "start_time": "2022-09-11T20:16:16.925570",
     "status": "completed"
    },
    "tags": []
   },
   "outputs": [
    {
     "name": "stdout",
     "output_type": "stream",
     "text": [
      "complete\n"
     ]
    }
   ],
   "source": [
    "# Find if new section has started\n",
    "def is_new_section(line,subterms_dict):\n",
    "    new_section = \"\"\n",
    "    first_word_of_line = \"\"\n",
    "    regex_pattern = re.compile(r\"^[\\s]?(\\w+)?[:|\\s]\")\n",
    "    match = regex_pattern.search(line)\n",
    "    if match != None and len(match.groups()) > 0 and match.group(1) != \"\":\n",
    "        first_word_of_line = match.group(1)\n",
    "        if first_word_of_line != None:\n",
    "            for node_tag, pattern_list in subterms_dict.items():\n",
    "                for pattern in pattern_list:\n",
    "                    if first_word_of_line in pattern:\n",
    "                        new_section = node_tag\n",
    "    return new_section\n",
    "print(\"complete\")"
   ]
  },
  {
   "cell_type": "code",
   "execution_count": 11,
   "id": "ac234843",
   "metadata": {
    "execution": {
     "iopub.execute_input": "2022-09-11T20:16:16.959024Z",
     "iopub.status.busy": "2022-09-11T20:16:16.958610Z",
     "iopub.status.idle": "2022-09-11T20:16:16.966508Z",
     "shell.execute_reply": "2022-09-11T20:16:16.965522Z"
    },
    "papermill": {
     "duration": 0.018022,
     "end_time": "2022-09-11T20:16:16.968733",
     "exception": false,
     "start_time": "2022-09-11T20:16:16.950711",
     "status": "completed"
    },
    "tags": []
   },
   "outputs": [
    {
     "name": "stdout",
     "output_type": "stream",
     "text": [
      "complete\n"
     ]
    }
   ],
   "source": [
    "# Segementation into sections, a sentence collector\n",
    "#'''\n",
    "#Read line by line\n",
    "#Get first token, send it to section_finder(token, subterm_dict),returns section node_tag or \"\"\n",
    "#Once section is found, make it current_section, and add sentences to it till, a next section is found\n",
    "#'''\n",
    "def section_extractor( document, section, subterms_dict,parsed_items_dict ):\n",
    "    retval = OrderedDict()\n",
    "    if document != \"NA\":\n",
    "        current_section = \"\"\n",
    "        lines = re.split(r'[\\n\\r]+', document)\n",
    "        for line in lines:\n",
    "            new_section = is_new_section(line, subterms_dict)\n",
    "            if new_section != \"\":\n",
    "                current_section = new_section\n",
    "                continue\n",
    "            retval[current_section] = retval.get(current_section, []) + [line]\n",
    "\n",
    "    return retval\n",
    "print(\"complete\")"
   ]
  },
  {
   "cell_type": "code",
   "execution_count": 12,
   "id": "48b169af",
   "metadata": {
    "execution": {
     "iopub.execute_input": "2022-09-11T20:16:16.983930Z",
     "iopub.status.busy": "2022-09-11T20:16:16.983545Z",
     "iopub.status.idle": "2022-09-11T20:16:16.993005Z",
     "shell.execute_reply": "2022-09-11T20:16:16.991537Z"
    },
    "papermill": {
     "duration": 0.0203,
     "end_time": "2022-09-11T20:16:16.995611",
     "exception": false,
     "start_time": "2022-09-11T20:16:16.975311",
     "status": "completed"
    },
    "tags": []
   },
   "outputs": [
    {
     "name": "stdout",
     "output_type": "stream",
     "text": [
      "complete\n"
     ]
    }
   ],
   "source": [
    "# Processes docuemtn as per specifications in config and returns result in dictionary\n",
    "def parse_document(document, config):\n",
    "    parsed_items_dict = OrderedDict()\n",
    "\n",
    "    for term in config:\n",
    "        term_name = term.get('Term')\n",
    "        extraction_method = term.get('Method')\n",
    "        extraction_method_ref = globals()[extraction_method]\n",
    "        section = term.get(\"Section\") # Optional\n",
    "        subterms_dict = OrderedDict()\n",
    "        for node_tag, pattern_list in list(term.items())[3:]:\n",
    "            subterms_dict[node_tag] = pattern_list\n",
    "        parsed_items_dict[term_name] = extraction_method_ref(document, section, subterms_dict, parsed_items_dict)\n",
    "\n",
    "    # key of section extractors is not to be printed\n",
    "    del parsed_items_dict[\"Sections\"]\n",
    "    return parsed_items_dict\n",
    "print(\"complete\")"
   ]
  },
  {
   "cell_type": "code",
   "execution_count": 13,
   "id": "33f45b76",
   "metadata": {
    "execution": {
     "iopub.execute_input": "2022-09-11T20:16:17.010618Z",
     "iopub.status.busy": "2022-09-11T20:16:17.010178Z",
     "iopub.status.idle": "2022-09-11T20:16:17.024737Z",
     "shell.execute_reply": "2022-09-11T20:16:17.023442Z"
    },
    "papermill": {
     "duration": 0.025086,
     "end_time": "2022-09-11T20:16:17.027208",
     "exception": false,
     "start_time": "2022-09-11T20:16:17.002122",
     "status": "completed"
    },
    "tags": []
   },
   "outputs": [
    {
     "name": "stdout",
     "output_type": "stream",
     "text": [
      "Final Result:\n",
      " [\n",
      "    {\n",
      "        \"Metadata\": {\n",
      "            \"Name\": \"Sunder Sethuraman\",\n",
      "            \"Email\": \"sethuram@math.arizona.edu\"\n",
      "        },\n",
      "        \"Education\": {\n",
      "            \"Masters\": \"MS \",\n",
      "            \"PhD\": \"PhD \",\n",
      "            \"Secondary\": \"10th \"\n",
      "        },\n",
      "        \"Skills\": {}\n",
      "    }\n",
      "]\n",
      "complete\n"
     ]
    }
   ],
   "source": [
    "final_result=[]\n",
    "result = parse_document(document, config)\n",
    "final_result.append(result)\n",
    "\n",
    "jason_result = json.dumps(final_result, indent=4)\n",
    "print(\"Final Result:\\n {}\".format(jason_result))\n",
    "print(\"complete\")"
   ]
  }
 ],
 "metadata": {
  "kernelspec": {
   "display_name": "Python 3",
   "language": "python",
   "name": "python3"
  },
  "language_info": {
   "codemirror_mode": {
    "name": "ipython",
    "version": 3
   },
   "file_extension": ".py",
   "mimetype": "text/x-python",
   "name": "python",
   "nbconvert_exporter": "python",
   "pygments_lexer": "ipython3",
   "version": "3.7.12"
  },
  "papermill": {
   "default_parameters": {},
   "duration": 35.551256,
   "end_time": "2022-09-11T20:16:17.755429",
   "environment_variables": {},
   "exception": null,
   "input_path": "__notebook__.ipynb",
   "output_path": "__notebook__.ipynb",
   "parameters": {},
   "start_time": "2022-09-11T20:15:42.204173",
   "version": "2.3.4"
  }
 },
 "nbformat": 4,
 "nbformat_minor": 5
}
