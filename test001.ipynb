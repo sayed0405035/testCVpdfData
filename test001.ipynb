{
 "cells": [
  {
   "cell_type": "code",
   "execution_count": 1,
   "id": "d7863cc7",
   "metadata": {
    "_cell_guid": "b1076dfc-b9ad-4769-8c92-a6c4dae69d19",
    "_uuid": "8f2839f25d086af736a60e9eeb907d3b93b6e0e5",
    "execution": {
     "iopub.execute_input": "2022-08-28T08:41:29.076234Z",
     "iopub.status.busy": "2022-08-28T08:41:29.075420Z",
     "iopub.status.idle": "2022-08-28T08:41:29.089969Z",
     "shell.execute_reply": "2022-08-28T08:41:29.088730Z"
    },
    "papermill": {
     "duration": 0.023724,
     "end_time": "2022-08-28T08:41:29.092721",
     "exception": false,
     "start_time": "2022-08-28T08:41:29.068997",
     "status": "completed"
    },
    "tags": []
   },
   "outputs": [
    {
     "name": "stdout",
     "output_type": "stream",
     "text": [
      "complete\n"
     ]
    }
   ],
   "source": [
    "# This Python 3 environment comes with many helpful analytics libraries installed\n",
    "# It is defined by the kaggle/python Docker image: https://github.com/kaggle/docker-python\n",
    "# For example, here's several helpful packages to load\n",
    "\n",
    "import numpy as np # linear algebra\n",
    "import pandas as pd # data processing, CSV file I/O (e.g. pd.read_csv)\n",
    "\n",
    "# Input data files are available in the read-only \"../input/\" directory\n",
    "# For example, running this (by clicking run or pressing Shift+Enter) will list all files under the input directory\n",
    "\n",
    "import os\n",
    "for dirname, _, filenames in os.walk('/kaggle/input'):\n",
    "    for filename in filenames:\n",
    "        print(os.path.join(dirname, filename))\n",
    "\n",
    "# You can write up to 20GB to the current directory (/kaggle/working/) that gets preserved as output when you create a version using \"Save & Run All\" \n",
    "# You can also write temporary files to /kaggle/temp/, but they won't be saved outside of the current session\n",
    "print(\"complete\")"
   ]
  },
  {
   "cell_type": "code",
   "execution_count": 2,
   "id": "c5b958af",
   "metadata": {
    "execution": {
     "iopub.execute_input": "2022-08-28T08:41:29.102799Z",
     "iopub.status.busy": "2022-08-28T08:41:29.101980Z",
     "iopub.status.idle": "2022-08-28T08:41:41.975028Z",
     "shell.execute_reply": "2022-08-28T08:41:41.973114Z"
    },
    "papermill": {
     "duration": 12.881982,
     "end_time": "2022-08-28T08:41:41.978798",
     "exception": false,
     "start_time": "2022-08-28T08:41:29.096816",
     "status": "completed"
    },
    "tags": []
   },
   "outputs": [
    {
     "name": "stdout",
     "output_type": "stream",
     "text": [
      "complete\n"
     ]
    }
   ],
   "source": [
    "import pandas as pd\n",
    "import concurrent.futures\n",
    "from tqdm import tqdm\n",
    "#Import libraries:\n",
    "import spacy\n",
    "import pandas as pd\n",
    "import requests\n",
    "from spacy import displacy\n",
    "# import en_core_web_sm\n",
    " \n",
    "nlp = spacy.load('en_core_web_sm')\n",
    " \n",
    "from spacy.tokens import Span\n",
    "from spacy.matcher import Matcher\n",
    " \n",
    "import matplotlib.pyplot as plot\n",
    "from tqdm import tqdm\n",
    "import networkx as ntx\n",
    "#import neptune.new as neptune\n",
    " \n",
    "%matplotlib inline\n",
    "print(\"complete\")"
   ]
  },
  {
   "cell_type": "code",
   "execution_count": 3,
   "id": "cfa66ec1",
   "metadata": {
    "execution": {
     "iopub.execute_input": "2022-08-28T08:41:41.988888Z",
     "iopub.status.busy": "2022-08-28T08:41:41.987544Z",
     "iopub.status.idle": "2022-08-28T08:41:41.994750Z",
     "shell.execute_reply": "2022-08-28T08:41:41.993691Z"
    },
    "papermill": {
     "duration": 0.014271,
     "end_time": "2022-08-28T08:41:41.996914",
     "exception": false,
     "start_time": "2022-08-28T08:41:41.982643",
     "status": "completed"
    },
    "tags": []
   },
   "outputs": [
    {
     "name": "stdout",
     "output_type": "stream",
     "text": [
      "['threes']\n"
     ]
    }
   ],
   "source": [
    "l = ['ones', 'twos', 'threes']\n",
    "wanted = 'three'\n",
    "\n",
    "# using startswith\n",
    "result = list(filter(lambda x: x.startswith(wanted), l))\n",
    "print(result)"
   ]
  },
  {
   "cell_type": "code",
   "execution_count": 4,
   "id": "57834725",
   "metadata": {
    "execution": {
     "iopub.execute_input": "2022-08-28T08:41:42.006428Z",
     "iopub.status.busy": "2022-08-28T08:41:42.005732Z",
     "iopub.status.idle": "2022-08-28T08:41:42.034488Z",
     "shell.execute_reply": "2022-08-28T08:41:42.032972Z"
    },
    "papermill": {
     "duration": 0.037475,
     "end_time": "2022-08-28T08:41:42.038293",
     "exception": false,
     "start_time": "2022-08-28T08:41:42.000818",
     "status": "completed"
    },
    "tags": []
   },
   "outputs": [
    {
     "name": "stdout",
     "output_type": "stream",
     "text": [
      "<class 'spacy.tokens.token.Token'> 2011\n",
      "[]\n",
      "<class 'spacy.tokens.token.Token'> professor\n",
      "[]\n",
      "<class 'spacy.tokens.token.Token'> mathematics\n",
      "[]\n",
      "<class 'spacy.tokens.token.Token'> result\n",
      "['results']\n",
      "2011 Professor Mathematics Result\n"
     ]
    }
   ],
   "source": [
    "#partial match of token and list of references\n",
    "res=[\"components\",\"results\"]\n",
    "text=\"2011 Professor Mathematics Result\"\n",
    "nt=nlp(text)\n",
    "for token in nt:\n",
    "    print(type(token),token.text.lower())\n",
    "    result = list(filter(lambda x: x.startswith(token.text.lower()), res))\n",
    "    print(result)\n",
    "print(nt)\n"
   ]
  },
  {
   "cell_type": "code",
   "execution_count": 5,
   "id": "a8e75625",
   "metadata": {
    "execution": {
     "iopub.execute_input": "2022-08-28T08:41:42.047943Z",
     "iopub.status.busy": "2022-08-28T08:41:42.047270Z",
     "iopub.status.idle": "2022-08-28T08:41:42.078290Z",
     "shell.execute_reply": "2022-08-28T08:41:42.076977Z"
    },
    "papermill": {
     "duration": 0.038575,
     "end_time": "2022-08-28T08:41:42.080926",
     "exception": false,
     "start_time": "2022-08-28T08:41:42.042351",
     "status": "completed"
    },
    "tags": []
   },
   "outputs": [
    {
     "name": "stdout",
     "output_type": "stream",
     "text": [
      "   Courses    Fee Duration  Discount\n",
      "0    Spark  22000   30days    1000.0\n",
      "1  PySpark  25000   50days    2300.0\n",
      "2   Hadoop  23000   55days    1500.0\n",
      "0 ['Spark' 'PySpark' 'Hadoop']\n",
      "1 [22000 25000 23000]\n",
      "2 ['30days' '50days' '55days']\n",
      "3 [1000. 2300. 1500.]\n"
     ]
    }
   ],
   "source": [
    "technologies = [\n",
    "            (\"Spark\", 22000,'30days',1000.0),\n",
    "            (\"PySpark\",25000,'50days',2300.0),\n",
    "            (\"Hadoop\",23000,'55days',1500.0)\n",
    "            ]\n",
    "df = pd.DataFrame(technologies,columns = ['Courses','Fee','Duration','Discount'])\n",
    "print(df)\n",
    "\n",
    "# Use getitem ([]) to iterate over columns\n",
    "for column in df:\n",
    "    #print(df[column])\n",
    "    pass\n",
    "# Use getitem ([]) to iterate over columns in pandas DataFrame\n",
    "for column in df:\n",
    "    #print(df[column].values)\n",
    "    pass\n",
    "\n",
    "\n",
    "# Iterate over columns using DataFrame.iteritems()\n",
    "for (colname,colval) in df.iteritems():\n",
    "    #print(colname, colval.values)\n",
    "    pass\n",
    "\n",
    "    \n",
    "# use iteritems()\n",
    "for name, values in df.iteritems():\n",
    "    #print('{name}: {value}'.format(name=name, value=values[1])) \n",
    "    pass\n",
    "\n",
    "#iterate over columns in pandas DataFrame using enumerate()\n",
    "for (index, colname) in enumerate(df):\n",
    "    print(index, df[colname].values)\n",
    "    #pass\n",
    "    \n",
    "# using enumerate()\n",
    "for (index, column) in enumerate(df):\n",
    "    #print (index, df[column])\n",
    "    pass\n",
    "    \n",
    "# using enumerate() & Numpy.asarray()\n",
    "for (index, column) in enumerate(df):\n",
    "    #print (index, np.asarray(df[column]))\n",
    "    pass\n",
    "    \n",
    "# Use DataFrame.columns()\n",
    "for column in df.columns[1:]:\n",
    "    #print(df[column])\n",
    "    pass\n",
    "    \n",
    "# Iterate over all the columns in reversed order    \n",
    "for column in df.columns[::-1]:\n",
    "    #print(df[column])\n",
    "    pass\n",
    "    \n",
    "# Get the indices of all columns\n",
    "for indix, column in enumerate(df.columns):\n",
    "    #print(indix, column)\n",
    "    pass\n",
    "    \n",
    "# Use DataFrame.transpose().iterrows()\n",
    "for (column_name, column) in df.transpose().iterrows():\n",
    "    #print (column_name,column)\n",
    "    pass"
   ]
  },
  {
   "cell_type": "code",
   "execution_count": 6,
   "id": "38e7c087",
   "metadata": {
    "execution": {
     "iopub.execute_input": "2022-08-28T08:41:42.091357Z",
     "iopub.status.busy": "2022-08-28T08:41:42.089807Z",
     "iopub.status.idle": "2022-08-28T08:41:42.099170Z",
     "shell.execute_reply": "2022-08-28T08:41:42.097913Z"
    },
    "papermill": {
     "duration": 0.017023,
     "end_time": "2022-08-28T08:41:42.101806",
     "exception": false,
     "start_time": "2022-08-28T08:41:42.084783",
     "status": "completed"
    },
    "tags": []
   },
   "outputs": [
    {
     "name": "stdout",
     "output_type": "stream",
     "text": [
      "Courses      Spark\n",
      "Fee          22000\n",
      "Duration    30days\n",
      "Discount    1000.0\n",
      "Name: 0, dtype: object\n",
      "Courses     PySpark\n",
      "Fee           25000\n",
      "Duration     50days\n",
      "Discount     2300.0\n",
      "Name: 1, dtype: object\n",
      "Courses     Hadoop\n",
      "Fee          23000\n",
      "Duration    55days\n",
      "Discount    1500.0\n",
      "Name: 2, dtype: object\n"
     ]
    }
   ],
   "source": [
    "for index, row in df.iterrows():\n",
    "    print(row)"
   ]
  },
  {
   "cell_type": "code",
   "execution_count": 7,
   "id": "3c941d59",
   "metadata": {
    "execution": {
     "iopub.execute_input": "2022-08-28T08:41:42.112004Z",
     "iopub.status.busy": "2022-08-28T08:41:42.111075Z",
     "iopub.status.idle": "2022-08-28T08:41:42.120225Z",
     "shell.execute_reply": "2022-08-28T08:41:42.118802Z"
    },
    "papermill": {
     "duration": 0.018373,
     "end_time": "2022-08-28T08:41:42.124303",
     "exception": false,
     "start_time": "2022-08-28T08:41:42.105930",
     "status": "completed"
    },
    "tags": []
   },
   "outputs": [
    {
     "name": "stdout",
     "output_type": "stream",
     "text": [
      "Courses      Spark\n",
      "Fee          22000\n",
      "Duration    30days\n",
      "Discount    1000.0\n",
      "Name: 0, dtype: object\n",
      "Courses     PySpark\n",
      "Fee           25000\n",
      "Duration     50days\n",
      "Discount     2300.0\n",
      "Name: 1, dtype: object\n",
      "Courses     Hadoop\n",
      "Fee          23000\n",
      "Duration    55days\n",
      "Discount    1500.0\n",
      "Name: 2, dtype: object\n"
     ]
    }
   ],
   "source": [
    "for index, row in df.iterrows():\n",
    "    print(row)"
   ]
  },
  {
   "cell_type": "code",
   "execution_count": 8,
   "id": "b3a585ab",
   "metadata": {
    "execution": {
     "iopub.execute_input": "2022-08-28T08:41:42.134718Z",
     "iopub.status.busy": "2022-08-28T08:41:42.133965Z",
     "iopub.status.idle": "2022-08-28T08:41:42.141145Z",
     "shell.execute_reply": "2022-08-28T08:41:42.139798Z"
    },
    "papermill": {
     "duration": 0.014885,
     "end_time": "2022-08-28T08:41:42.143485",
     "exception": false,
     "start_time": "2022-08-28T08:41:42.128600",
     "status": "completed"
    },
    "tags": []
   },
   "outputs": [
    {
     "name": "stdout",
     "output_type": "stream",
     "text": [
      "22000\n",
      "25000\n",
      "23000\n"
     ]
    }
   ],
   "source": [
    "for index, row in df.iterrows():\n",
    "    print(row[1])"
   ]
  },
  {
   "cell_type": "code",
   "execution_count": 9,
   "id": "8f179403",
   "metadata": {
    "execution": {
     "iopub.execute_input": "2022-08-28T08:41:42.153575Z",
     "iopub.status.busy": "2022-08-28T08:41:42.152826Z",
     "iopub.status.idle": "2022-08-28T08:41:42.159690Z",
     "shell.execute_reply": "2022-08-28T08:41:42.158528Z"
    },
    "papermill": {
     "duration": 0.014321,
     "end_time": "2022-08-28T08:41:42.161884",
     "exception": false,
     "start_time": "2022-08-28T08:41:42.147563",
     "status": "completed"
    },
    "tags": []
   },
   "outputs": [
    {
     "name": "stdout",
     "output_type": "stream",
     "text": [
      "['Spark' 22000 '30days' 1000.0]\n",
      "[['Spark' 22000 '30days' 1000.0]\n",
      " ['PySpark' 25000 '50days' 2300.0]\n",
      " ['Hadoop' 23000 '55days' 1500.0]]\n"
     ]
    }
   ],
   "source": [
    "matrix_res = df.to_numpy()\n",
    "\n",
    "print(matrix_res[0])\n",
    "\n",
    "print(matrix_res)"
   ]
  },
  {
   "cell_type": "code",
   "execution_count": 10,
   "id": "b35a8ac4",
   "metadata": {
    "execution": {
     "iopub.execute_input": "2022-08-28T08:41:42.172367Z",
     "iopub.status.busy": "2022-08-28T08:41:42.171329Z",
     "iopub.status.idle": "2022-08-28T08:41:42.178407Z",
     "shell.execute_reply": "2022-08-28T08:41:42.176803Z"
    },
    "papermill": {
     "duration": 0.015836,
     "end_time": "2022-08-28T08:41:42.182006",
     "exception": false,
     "start_time": "2022-08-28T08:41:42.166170",
     "status": "completed"
    },
    "tags": []
   },
   "outputs": [
    {
     "name": "stdout",
     "output_type": "stream",
     "text": [
      "complete\n"
     ]
    }
   ],
   "source": [
    "print(\"complete\")"
   ]
  },
  {
   "cell_type": "code",
   "execution_count": null,
   "id": "23c82a5a",
   "metadata": {
    "papermill": {
     "duration": 0.003904,
     "end_time": "2022-08-28T08:41:42.190117",
     "exception": false,
     "start_time": "2022-08-28T08:41:42.186213",
     "status": "completed"
    },
    "tags": []
   },
   "outputs": [],
   "source": []
  }
 ],
 "metadata": {
  "kernelspec": {
   "display_name": "Python 3",
   "language": "python",
   "name": "python3"
  },
  "language_info": {
   "codemirror_mode": {
    "name": "ipython",
    "version": 3
   },
   "file_extension": ".py",
   "mimetype": "text/x-python",
   "name": "python",
   "nbconvert_exporter": "python",
   "pygments_lexer": "ipython3",
   "version": "3.7.12"
  },
  "papermill": {
   "default_parameters": {},
   "duration": 25.240089,
   "end_time": "2022-08-28T08:41:45.013651",
   "environment_variables": {},
   "exception": null,
   "input_path": "__notebook__.ipynb",
   "output_path": "__notebook__.ipynb",
   "parameters": {},
   "start_time": "2022-08-28T08:41:19.773562",
   "version": "2.3.4"
  }
 },
 "nbformat": 4,
 "nbformat_minor": 5
}
